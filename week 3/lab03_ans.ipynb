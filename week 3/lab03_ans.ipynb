{
 "cells": [
  {
   "cell_type": "markdown",
   "id": "c0801d16",
   "metadata": {},
   "source": [
    "# <center>Aston University <br/><br/> CS3IVP: Digital Image and Video Processing <br/><br/> Lab 03</center>\n",
    "\n",
    "Lecturers:<br/>\n",
    "Debaleena Roy <a href=\"mailto:d.roy@aston.ac.uk\">d.roy@aston.ac.uk</a> <br/>\n",
    "Office: MB265K <br/>\n",
    "\n",
    "Martin Rudorfer <a href=\"mailto:m.rudorfer@aston.ac.uk\">m.rudorfer@aston.ac.uk</a> <br/>\n",
    "Office: MB214G <br/>\n",
    "\n",
    "## Goals\n",
    "To revisit previous laboratory sessions.\n",
    "\n",
    "\n",
    "## Instructions\n",
    "No submission is required for this laboratory."
   ]
  },
  {
   "cell_type": "markdown",
   "id": "d64de149",
   "metadata": {},
   "source": [
    "## Task 3.1\n",
    "In this task, we will practise writing *vectorised* code with NumPy arrays, without using any loops.\n",
    "Assume that `v` and `u` are NumPy matrices of the same size, composed of **a single row** (*e.g.*, $(1.1, 2.1, 0.4, 3.2, 1.4, 9.2)$).\n",
    "\n",
    "Advice:\n",
    "- Create the `v` and `u` variables first and use them to help you check that your answer is correct. For that purpose, you can use the NumPy's random array generation function `np.random.random` *e.g.*, `row_vector = np.random.random((1,10))`.\n",
    "- For task 3.1.b, you can run the loop-based code to check if both solutions give the same values. If you do so, please do not forget to make copies of the matrices, as **the code overwrites** them.\n",
    "- To make a copy of an array (to avoid one being overwritten) you can use NumPy's `array` constructor: *e.g.*, `copy_of_the_array = np.array(original_array)`. It has a default parameter `copy=True`. Alternatively, you can directly use `copy_of_the_array = original_array.copy()`.\n",
    "- If you're done, you can try comparing the runtime of the vectorised and loop-based code to see what difference it makes."
   ]
  },
  {
   "cell_type": "markdown",
   "id": "2501ec8b-100e-4c94-9bc4-459c9bc9e422",
   "metadata": {},
   "source": [
    "## Task 3.1.a\n",
    "Write the equation $w = v \\times u + 5\\times u - 10$ as vectorised code."
   ]
  },
  {
   "cell_type": "code",
   "execution_count": null,
   "id": "0022368e",
   "metadata": {},
   "outputs": [],
   "source": [
    "import matplotlib.pyplot as plt\n",
    "import numpy as np\n",
    "from numpy import cos, pi\n",
    "from skimage.io import imread, imsave, imshow\n",
    "\n",
    "from IPython.display import display, HTML\n",
    "display(HTML(\"<style>.container { width:90% !important; }</style>\"))\n",
    "\n",
    "# WRITE YOUR CODE BELOW (DO NOT DELETE THIS LINE OR THE LINES ABOVE)\n",
    "\n",
    "u = np.random.random((1,10))\n",
    "v = np.random.random((1,10))\n",
    "\n",
    "w = v*u + 5*u - 10\n",
    "print(w)\n",
    "\n",
    "# WRITE YOUR CODE ABOVE (DO NOT DELETE THIS LINE OR THE LINES BELOW)"
   ]
  },
  {
   "cell_type": "markdown",
   "id": "79af2c91",
   "metadata": {},
   "source": [
    "## Task 3.1.b\n",
    "Rewrite the following loop-based code in a vectorised form:\n",
    "```\n",
    "for i in range(v.shape[1]):\n",
    "    v[0,i] = v[0,i]/u[0,i] + cos(2.*pi*u[0,i])\n",
    "```"
   ]
  },
  {
   "cell_type": "code",
   "execution_count": null,
   "id": "39129a3b",
   "metadata": {},
   "outputs": [],
   "source": [
    "# WRITE YOUR CODE BELOW (DO NOT DELETE THIS LINE)\n",
    "u_orig = np.random.random((1,6))\n",
    "v_orig = np.random.random((1,6))\n",
    "print(v_orig)\n",
    "\n",
    "# Loop-based\n",
    "u = np.array(u_orig)\n",
    "v = np.array(v_orig)\n",
    "for i in range(v.shape[1]):\n",
    "    v[0,i] = v[0,i]/u[0,i] + cos(2.*pi*u[0,i])\n",
    "print(v)\n",
    "\n",
    "# Vectorised\n",
    "u = np.array(u_orig)\n",
    "v = np.array(v_orig)\n",
    "v = v/u + cos(2.*pi*u)\n",
    "print(v)\n",
    "\n",
    "# WRITE YOUR CODE ABOVE (DO NOT DELETE THIS LINE)"
   ]
  },
  {
   "cell_type": "markdown",
   "id": "1943fdd7",
   "metadata": {},
   "source": [
    "## Task 3.2\n",
    "Consider the code below. To fully understand what is going on, we would like to know the values of the `x`, `y` and `z` variables at four different points: (1) after the initial assignment, (2) after the call to `function1`, (3) after the call to `function2`, and (4) after the division? That is, in lines 14, 17, 20, and 23. For each of the **four**, provide the values of the three variables. What observations do you make?\n",
    "\n",
    "\n",
    "**Write your answers in the code cell below.**\n",
    "\n",
    "```\n",
    "01 def function1(x):\n",
    "02     return x+1\n",
    "03 \n",
    "04 def function2(a, b, z):\n",
    "05     z = z * 2\n",
    "06     a = a + z\n",
    "07     b = a^2\n",
    "08     return b\n",
    "09 \n",
    "10 #  Initial assignments\n",
    "11 x = np.array( [[ 0,  1]] )\n",
    "12 y = np.array( [[20, 30]] )\n",
    "13 z = np.array( [[ 1,  1]] )\n",
    "14 \n",
    "15 #  Call to function1\n",
    "16 x = function1(x)\n",
    "17 \n",
    "18 #  Call to function1\n",
    "19 z = function2(x, y, z)\n",
    "20 \n",
    "21 #  Division\n",
    "22 z = z/2\n",
    "23\n",
    "```"
   ]
  },
  {
   "cell_type": "code",
   "execution_count": null,
   "id": "1e286439",
   "metadata": {},
   "outputs": [],
   "source": [
    "# WRITE YOUR CODE BELOW (DO NOT DELETE THIS LINE OR THE LINES ABOVE)\n",
    "\n",
    "def function1(x):\n",
    "     return x+1\n",
    "\n",
    "def function2(a, b, z):\n",
    "    z = z * 2\n",
    "    a = a + z\n",
    "    b = a^2\n",
    "    return b\n",
    " \n",
    "#  Initial assignments\n",
    "x = np.array( [[ 0,  1]] )\n",
    "y = np.array( [[20, 30]] )\n",
    "z = np.array( [[ 1,  1]] )\n",
    "print(f'x:{x} y:{y} z:{z}')\n",
    "#  Call to function1\n",
    "x = function1(x)\n",
    "print(f'x:{x} y:{y} z:{z}')\n",
    "#  Call to function2\n",
    "z = function2(x, y, z)\n",
    "print(f'x:{x} y:{y} z:{z}')\n",
    "#  Division\n",
    "z = z/2\n",
    "print(f'x:{x} y:{y} z:{z}')\n",
    "\n",
    "\n",
    "# WRITE YOUR CODE ABOVE (DO NOT DELETE THIS LINE OR THE LINES BELOW)"
   ]
  },
  {
   "cell_type": "markdown",
   "id": "01a38798",
   "metadata": {},
   "source": [
    "## Task 3.3\n",
    "Write a function `slice` which performs intensity slicing as defined in the \"Global Image Enhancement\" lecture slides. As arguments, it should take an image matrix, a two-element list containing the critical values defining the slice, and a value to which to send pixels falling between the two critical values. For example, the following call:\n",
    "\n",
    "`slice(img, [100,150], 0)`\n",
    "\n",
    "should return a copy of `img` in which all pixels with values in the range $[100,150]$ (inclusive) have been sent to $0$ (black).\n",
    "\n",
    "Make sure that the code is vectorised and not loop-based.\n",
    "\n",
    "Hint: Remember that you can use NumPy's logical operators (*e.g.*, `logical_or`, `logical_and`) to compute a boolean mask."
   ]
  },
  {
   "cell_type": "code",
   "execution_count": null,
   "id": "06583aad",
   "metadata": {},
   "outputs": [],
   "source": [
    "import numpy as np\n",
    "import matplotlib.pyplot as plt\n",
    "from skimage.io import imread, imsave, imshow\n",
    "\n",
    "# WRITE YOUR CODE BELOW (DO NOT DELETE THIS LINE OR THE LINES ABOVE)\n",
    "\n",
    "def slice(input_image, thresholds, value):\n",
    "    tmp = np.array(input_image)\n",
    "    mask = np.logical_and(thresholds[0] <= tmp, tmp <= thresholds[1])\n",
    "    tmp[mask] = value\n",
    "    return tmp\n",
    "\n",
    "# WRITE YOUR CODE ABOVE (DO NOT DELETE THIS LINE OR THE LINES BELOW)"
   ]
  },
  {
   "cell_type": "markdown",
   "id": "011cfb07",
   "metadata": {},
   "source": [
    "## Task 3.4\n",
    "Download the image `house.bmp` from Blackboard. In this task, you will use your `slice` function to slice the sky from the image so that its pixels are sent to black.\n",
    "- Use the function with appropriate values to process the image.\n",
    "- Display the result.\n",
    "- To choose a good threshold value, please plot the histogram of the image. Based on that, discuss what would be a good value."
   ]
  },
  {
   "cell_type": "code",
   "execution_count": null,
   "id": "8ebe50a3",
   "metadata": {},
   "outputs": [],
   "source": [
    "# WRITE YOUR CODE BELOW (DO NOT DELETE THIS LINE)\n",
    "\n",
    "image = imread(\"house_Lab03.bmp\")\n",
    "imshow(image)\n",
    "plt.figure()\n",
    "\n",
    "a = slice(image, [180, 194], 0)\n",
    "imshow(a);\n",
    "\n",
    "plt.figure();\n",
    "\n",
    "histogram, edges = np.histogram(image, bins=256)\n",
    "plt.bar(edges[:-1], histogram);\n",
    "\n",
    "# 180 and 194 are good values because the sky corresponds to the spike on the right. 180 and 194 seem to surround it.\n",
    "\n",
    "# WRITE YOUR CODE ABOVE (DO NOT DELETE THIS LINE)"
   ]
  }
 ],
 "metadata": {
  "kernelspec": {
   "display_name": "Python 3 (ipykernel)",
   "language": "python",
   "name": "python3"
  },
  "language_info": {
   "codemirror_mode": {
    "name": "ipython",
    "version": 3
   },
   "file_extension": ".py",
   "mimetype": "text/x-python",
   "name": "python",
   "nbconvert_exporter": "python",
   "pygments_lexer": "ipython3",
   "version": "3.11.13"
  }
 },
 "nbformat": 4,
 "nbformat_minor": 5
}
