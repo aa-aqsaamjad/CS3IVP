{
 "cells": [
  {
   "cell_type": "markdown",
   "id": "c80c6a73",
   "metadata": {},
   "source": [
    "# <center>Aston University <br/><br/> CS3IVP: Digital Image and Video Processing <br/><br/> Lab 02: Image I/O and Python functions</center>\n",
    "\n",
    "Lecturers:<br/>\n",
    "Debaleena Roy <a href=\"mailto:d.roy@aston.ac.uk\">d.roy@aston.ac.uk</a> <br/>\n",
    "Office: MB265K <br/>\n",
    "\n",
    "Martin Rudorfer <a href=\"mailto:m.rudorfer@aston.ac.uk\">m.rudorfer@aston.ac.uk</a> <br/>\n",
    "Office: MB214G <br/>\n",
    "\n",
    "## Goals\n",
    "By the end of this session, you should know:\n",
    "1. how to load and display colour and grayscale images in Jupyter,\n",
    "2. how to plot (sampled) functions,\n",
    "3. how to write and use Python functions,\n",
    "\n",
    "\n",
    "## Instructions\n",
    "No submission is required for this laboratory."
   ]
  },
  {
   "cell_type": "markdown",
   "id": "bd825e8c",
   "metadata": {},
   "source": [
    "## Image I/O using SciKit-Image\n",
    "\n",
    "Before we start using Python to process images, we need to know how to load and display them. In most labs, you can work with images of your choice, but we are going to start with some standard test images. Download the two sample images available from Blackboard (from the same location as this notebook) and save them in the same folder as the notebook.\n",
    "\n",
    "To load, save and display images -among other tasks- we are going to use a Python module called [**scikit-image**](https://scikit-image.org/).\n",
    "To load an save images we are going to use the submodule `io`. We can either import the module or just the functions we are interested in:"
   ]
  },
  {
   "cell_type": "code",
   "execution_count": null,
   "id": "d132e382",
   "metadata": {},
   "outputs": [],
   "source": [
    "# We are going to import individual functions\n",
    "from skimage.io import imread, imsave, imshow\n",
    "\n",
    "# But we could have imported the whole skimage.io module.\n",
    "# import skimage.io"
   ]
  },
  {
   "cell_type": "markdown",
   "id": "18979aca",
   "metadata": {},
   "source": [
    "We can load images using the following syntax: `image = imread(path)`, where `path` is the location of the image in the file system (e.g., \"C:\\some\\directory\\image.png\", \"image.png\") and `image` is the name of the variable where you want to load the image. Please remember that `path` must be a string (**do not forget the quotes**)."
   ]
  },
  {
   "cell_type": "code",
   "execution_count": null,
   "id": "de0c2561",
   "metadata": {},
   "outputs": [],
   "source": [
    "image = imread(\"airplane.bmp\")"
   ]
  },
  {
   "cell_type": "markdown",
   "id": "b63d541e",
   "metadata": {},
   "source": [
    "Similarly, we can save an image matrix using the following syntax: `imsave(path, image)`, where the parameters have similar semantics:"
   ]
  },
  {
   "cell_type": "code",
   "execution_count": null,
   "id": "e8949f3b",
   "metadata": {},
   "outputs": [],
   "source": [
    "imsave('airplane-copy.png', image)"
   ]
  },
  {
   "cell_type": "markdown",
   "id": "f23aea8e",
   "metadata": {},
   "source": [
    "Make sure that you have run all the previous cells. You will see that the file `airplane-copy.png` has been created. In this module, we will generally prefer loseless image file formats such as BMP or **PNG**. The JPG image file format is great for photographs but, as we will see later in the module, the quality of the images can decrease significantly."
   ]
  },
  {
   "cell_type": "markdown",
   "id": "bb62955b",
   "metadata": {},
   "source": [
    "## Task 2.1\n",
    "- Load the two test images, `airplane.bmp` and `camera.bmp`, assigning them to appropriately named variables.\n",
    "- In scikit-image, images are represented as numpy arrays. Using what you've learned in the previous lab, print out the main characteristics of both images:\n",
    "    - Number of dimensions\n",
    "    - Shape - rows and columns\n",
    "    - Type of the elements within the matrices\n",
    "- What similarities and differences can you see? Take a few seconds to reflect on them and the possible implications."
   ]
  },
  {
   "cell_type": "code",
   "execution_count": null,
   "id": "5e1a5f25",
   "metadata": {},
   "outputs": [],
   "source": [
    "# WRITE YOUR CODE BELOW (DO NOT DELETE THIS LINE)\n",
    "\n",
    "airplane = imread(\"airplane.bmp\")\n",
    "print('airplane.bmp:')\n",
    "print(' dimensions', airplane.ndim)\n",
    "print(' shape', airplane.shape)\n",
    "print(' dtype', airplane.dtype)\n",
    "\n",
    "camera = imread(\"camera.bmp\")\n",
    "print('camera.bmp:')\n",
    "print(' dimensions', camera.ndim)\n",
    "print(' shape', camera.shape)\n",
    "print(' dtype', camera.dtype)\n",
    "\n",
    "# WRITE YOUR CODE ABOVE (DO NOT DELETE THIS LINE)"
   ]
  },
  {
   "cell_type": "markdown",
   "id": "1db1761d",
   "metadata": {},
   "source": [
    "- Both images have 256 rows and 256 columns. This means that they are of size 256 by 256 pixels.\n",
    "\n",
    "- Both images are of data type uint8 - that is unsigned 8-bit integers. This is the *de facto* standard datatype for bitmap images.\n",
    "\n",
    "- The matrix holding the airplane image (`airplane.bmp`) has three dimensions (256x256x3 as opposed to 256x256). Intuitively, we can think of this as 3 images (referred to as *planes*) of 256 by 256 pixels. When we see an image of this shape, we can usually assume that it is a colour image (here we have an RGB image with one plane for red, one plane for green and one for blue). Conversely, `camera.bmp` has a single plane. Although it is very likely to be the case, we cannot assume that this means that it is a grayscale image (palette colour images may also have a single plane - we will learn about palette colour images later in the module).\n",
    "\n",
    "\n",
    "We can display any image using the `imshow` function that we imported earlier. It receives a single parameter, the image to display. If you make more than one call to `imshow` in the same cell, and forget to take measures to avoid it, you will only get the last image."
   ]
  },
  {
   "cell_type": "code",
   "execution_count": null,
   "id": "872dc0ca",
   "metadata": {},
   "outputs": [],
   "source": [
    "# We are using a semicolon in the last line to suppress the textual output\n",
    "imshow(airplane)\n",
    "imshow(camera);"
   ]
  },
  {
   "cell_type": "markdown",
   "id": "2c8a4da5",
   "metadata": {},
   "source": [
    "The image `camera.bmp` is indeed a greyscale image.\n",
    "\n",
    "If you want to display more than one image in a single cell we need to import `PyPlot` (generally as `plt`), the module that scikit-image uses underneath to display images and create additional figures. We are going to use its `figure` function to create an additional figure between the different calls to `imshow`.\n",
    "\n",
    "As you can see, in Python there is a lot of interaction between different modules. Look at the following example where two images are displayed:"
   ]
  },
  {
   "cell_type": "code",
   "execution_count": null,
   "id": "175cf31e",
   "metadata": {},
   "outputs": [],
   "source": [
    "import matplotlib.pyplot as plt\n",
    "\n",
    "imshow(airplane)\n",
    "\n",
    "plt.figure()\n",
    "imshow(camera);"
   ]
  },
  {
   "cell_type": "markdown",
   "id": "5880d4b5",
   "metadata": {},
   "source": [
    "We will be working with grayscale images for the first half of the module. If you want to use your own colour images in a lab that requires grayscale images, you will need to convert them to greyscale first.\n",
    "\n",
    "We can convert an RGB image `img` into grayscale using the *scikit-image* function `rgb2gray` provided in the module `skimage.color`. It receives an RGB image as a single parameter and returns a grey image.\n",
    "\n",
    "A valid use of the function would be: `grey_image = rgb2gray(colour_image)`.\n",
    "\n",
    "## Task 2.2\n",
    "Try the following:\n",
    "1. Convert the `airplane` image into greyscale.\n",
    "2. Save it to disk as a PNG file, using the filename: `airplane-grey.png`.\n",
    "3. Display it as a (greyscale) image in the notebook."
   ]
  },
  {
   "cell_type": "code",
   "execution_count": null,
   "id": "7275f8ac",
   "metadata": {},
   "outputs": [],
   "source": [
    "# WRITE YOUR CODE BELOW (DO NOT DELETE THIS LINE)\n",
    "\n",
    "import numpy as np\n",
    "from skimage.color import rgb2gray\n",
    "\n",
    "airplane = imread(\"airplane.bmp\")\n",
    "print(airplane.dtype)\n",
    "\n",
    "airplane_grey = rgb2gray(airplane)\n",
    "print(airplane_grey.dtype)\n",
    "imsave('airplane-grey.png', airplane_grey)  # this gives an error: \"cannot write mode F as BMP\", see explanation below\n",
    "imshow(airplane_grey);\n",
    "\n",
    "# WRITE YOUR CODE ABOVE (DO NOT DELETE THIS LINE)"
   ]
  },
  {
   "cell_type": "markdown",
   "id": "8ee8f313",
   "metadata": {},
   "source": [
    "## Task 2.3\n",
    "Depending on your version of scikit-image, you may have noticed an error: **cannot write mode F as PNG**. The function `rgb2gray` converts the image to greyscale so that the brightness values range from $0$ to $1$, using floating point numbers (mode F). To convert the image into the format we will usually work with, we will need to make the brightness values range from $0$ to $255$ using 8-bits unsigned integers.\n",
    "\n",
    "Modify your previous code to convert the image into 8-bits integers in the range $(0-255)$. You will need to use the operator `*` and convert the underlying array datatype using the method `astype` of the numpy array to convert. If you have gotten the error earlier, you should now be able to save the image."
   ]
  },
  {
   "cell_type": "code",
   "execution_count": null,
   "id": "cb9c3c52",
   "metadata": {},
   "outputs": [],
   "source": [
    "import numpy as np\n",
    "from skimage.color import rgb2gray\n",
    "\n",
    "# WRITE YOUR CODE BELOW (DO NOT DELETE THIS LINE)\n",
    "\n",
    "airplane = imread(\"airplane.bmp\")\n",
    "airplane_grey = (rgb2gray(airplane)*255).astype(np.uint8)   # first multiply by 255, then convert to 8-bit unsigned integer\n",
    "imsave('airplane-grey.png', airplane_grey)   # this works fine now!\n",
    "imshow(airplane_grey);\n",
    "\n",
    "# WRITE YOUR CODE ABOVE (DO NOT DELETE THIS LINE)"
   ]
  },
  {
   "cell_type": "markdown",
   "id": "c83bc010",
   "metadata": {},
   "source": [
    "## Plotting functions\n",
    "We will sometimes want to visualise numerical data in the form of a graph (generally 1-dimensional signals). To plot sampled functions we are going to use `matplotlib`, the module that we mentioned earlier when we covered how to output multiple figures:"
   ]
  },
  {
   "cell_type": "code",
   "execution_count": null,
   "id": "af447a40",
   "metadata": {},
   "outputs": [],
   "source": [
    "import matplotlib.pyplot as plt"
   ]
  },
  {
   "cell_type": "markdown",
   "id": "78d8ff2d",
   "metadata": {},
   "source": [
    "Plotting in Python notebooks is straightforward. Assume that we have two vectors of the same length, `x` and `y`, that we want to plot against each other. The only thing we need to do is to call `plt.plot` and pass two parameters:\n",
    "1. the input domain of the function we want to plot,\n",
    "2. its corresponding output values.\n",
    "\n",
    "For instance, as in the following example, `plt.plot(x, y)`:"
   ]
  },
  {
   "cell_type": "code",
   "execution_count": null,
   "id": "2f2d3ca2",
   "metadata": {},
   "outputs": [],
   "source": [
    "# Generate the numbers from 0 to 2pi, with a step of 0.1\n",
    "x = np.arange(0, 6.28, 0.1)\n",
    "\n",
    "# Print the number of elements in x, just so that you can see that the values\n",
    "# are independent from the number of elements.\n",
    "print(f'Length of the input vector: {len(x)}.')\n",
    "\n",
    "# Compute output for the function   y = sin(x)\n",
    "y = np.sin(x)\n",
    "\n",
    "# Plot the results\n",
    "plt.plot(x, y);"
   ]
  },
  {
   "cell_type": "markdown",
   "id": "77ee2991",
   "metadata": {},
   "source": [
    "**Notice that we used the function `np.arange` in the previous cell**. Use it in the next exercises.\n",
    "\n",
    "## Task 2.4.a\n",
    "Plot the following function:\n",
    "- $y = x$ for $x$ in the range $[0, 10)$, with a step of $1$"
   ]
  },
  {
   "cell_type": "code",
   "execution_count": null,
   "id": "0d82a100",
   "metadata": {},
   "outputs": [],
   "source": [
    "# WRITE YOUR CODE BELOW (DO NOT DELETE THIS LINE)\n",
    "\n",
    "# Generate the numbers from 0 to 10, with a step of 1\n",
    "x = np.arange(0, 10, 1)\n",
    "print('x:', x)  # check that we got it right\n",
    "\n",
    "# Compute output for the function and plot the results\n",
    "y = x\n",
    "print('y:', y)\n",
    "plt.plot(x, y);\n",
    "\n",
    "# WRITE YOUR CODE ABOVE (DO NOT DELETE THIS LINE)"
   ]
  },
  {
   "cell_type": "markdown",
   "id": "5f18db8e",
   "metadata": {},
   "source": [
    "## Task 2.4.b\n",
    "Plot the following function:\n",
    "- $y = -x$ for x in the range $[0, 10)$, with a step of 1"
   ]
  },
  {
   "cell_type": "code",
   "execution_count": null,
   "id": "cc66b6bd",
   "metadata": {},
   "outputs": [],
   "source": [
    "# WRITE YOUR CODE BELOW (DO NOT DELETE THIS LINE)\n",
    "\n",
    "# Generate the numbers from 0 to 10, with a step of 1\n",
    "x = np.arange(0, 10, 1)\n",
    "print('x:', x)  # check that we got it right\n",
    "\n",
    "# Compute output for the function and plot the results\n",
    "y = -x\n",
    "print('y:', y)\n",
    "plt.plot(x, y);\n",
    "\n",
    "# WRITE YOUR CODE ABOVE (DO NOT DELETE THIS LINE)"
   ]
  },
  {
   "cell_type": "markdown",
   "id": "169908e9",
   "metadata": {},
   "source": [
    "## Task 2.4.c\n",
    "Plot the following function:\n",
    "- $y = x^2$ for x in the range $[0, 10)$, with a step of 5.\n",
    "\n",
    "\n",
    "For exponentiaiton we can use the ```**``` operator or `np.power`."
   ]
  },
  {
   "cell_type": "code",
   "execution_count": null,
   "id": "dc580802",
   "metadata": {},
   "outputs": [],
   "source": [
    "# WRITE YOUR CODE BELOW (DO NOT DELETE THIS LINE)\n",
    "\n",
    "# Generate the numbers from 0 to 10, with a step of 5\n",
    "x = np.arange(0, 10, 5)\n",
    "print('x:', x)  # check that we got it right\n",
    "\n",
    "# Compute output for the function and plot the results\n",
    "y = x**2\n",
    "print('y:', y)\n",
    "plt.plot(x, y);\n",
    "\n",
    "# WRITE YOUR CODE ABOVE (DO NOT DELETE THIS LINE)"
   ]
  },
  {
   "cell_type": "markdown",
   "id": "ad2286db",
   "metadata": {},
   "source": [
    "## Task 2.4.d\n",
    "Plot the following function:\n",
    "- $y = x^2$ for x in the range $[0, 10)$, with a step of 0.01\n"
   ]
  },
  {
   "cell_type": "code",
   "execution_count": null,
   "id": "4cf1efac",
   "metadata": {},
   "outputs": [],
   "source": [
    "# WRITE YOUR CODE BELOW (DO NOT DELETE THIS LINE)\n",
    "\n",
    "# Generate the numbers from 0 to 10, with a step of 0.01\n",
    "x = np.arange(0, 10, 0.01)\n",
    "# print('x:', x)  # let's skip this now, because it's going to be a lot of values!\n",
    "\n",
    "# Compute output for the function and plot the results\n",
    "y = x**2\n",
    "plt.plot(x, y);\n",
    "\n",
    "# WRITE YOUR CODE ABOVE (DO NOT DELETE THIS LINE)"
   ]
  },
  {
   "cell_type": "markdown",
   "id": "a6eeb097",
   "metadata": {},
   "source": [
    "We can also plot two pairs of vectors of the same length, `x1` and `y1`, `x2` and `y2`, on the same axes using similar syntax (remember to call `plt.figure()` if you need to plot more than one figure in the same cell):\n",
    "\n",
    "`plot(x1, y1, x2, y2)`\n",
    "\n",
    "Finally, it is good practice to label your graphs to make their content clear. The commands title, xlabel, ylabel and legend allow us to do this. You can check the [**matplotlib reference**](https://matplotlib.org/stable/api/index) to see all commands, their description and usage examples. You can also use Matlab’s help documentation or see the “Introduction to Matlab” slides for example usage of these commands."
   ]
  },
  {
   "cell_type": "code",
   "execution_count": null,
   "id": "9c030268",
   "metadata": {},
   "outputs": [],
   "source": [
    "# Generate the numbers from 0 to 10, with a step of 1\n",
    "x = np.arange(0, 5, 0.1)\n",
    "\n",
    "# Compute output for two functions\n",
    "y1 = x * 1.4\n",
    "acceleration = 9.81 # 9.81m/s^2\n",
    "y2 = 1./2. * acceleration * np.power(x, 2)\n",
    "\n",
    "# Plot the results\n",
    "plt.plot(x, y1, x, y2)\n",
    "\n",
    "# Set title, limits, labels and legend\n",
    "plt.title('Distance covered by humans walking and objects falling')\n",
    "# plt.xlim([0, 10])\n",
    "plt.ylim([-1, 100])  # If we comment the line, pyplot automatically assigns the limits\n",
    "plt.ylabel('distance (m)')\n",
    "plt.xlabel('time (s)')\n",
    "plt.legend(['human ($1.4 m/s$)', 'falling object ($9.81m/s^2$)'])\n",
    "plt.figtext(0.5, -0.05, \"The calculations for the falling object do not consider friction.\", wrap=True, horizontalalignment='center', fontsize=12)"
   ]
  },
  {
   "cell_type": "markdown",
   "id": "3ce0bee6",
   "metadata": {},
   "source": [
    "## Creating and using functions\n",
    "A function is a re-usable piece of code which can operate on global and user provided data (arguments), and **can** return values when its execution terminates. Not every function has to provide a return value. Functions follow the syntax:\n",
    "```\n",
    "def function_name (parameters):\n",
    "    code\n",
    "```\n",
    "where `function_name` is the name of the function and `parameters` is a parameters' list.\n",
    "\n",
    "For instance, the following function, opens an image and returns its greyscale version if it's not in greyscale to begin with:"
   ]
  },
  {
   "cell_type": "code",
   "execution_count": null,
   "id": "64e7e492",
   "metadata": {},
   "outputs": [],
   "source": [
    "def load_in_greyscale(image_path):\n",
    "    read_image = imread(image_path)\n",
    "    print (read_image.ndim)\n",
    "    if read_image.ndim == 2:\n",
    "        return read_image\n",
    "    elif read_image.ndim == 3:\n",
    "        return (rgb2gray(read_image)*255.).astype(np.uint8)\n",
    "    else:\n",
    "        raise Exception('Image in unknown colour format!')"
   ]
  },
  {
   "cell_type": "markdown",
   "id": "7aa289a5",
   "metadata": {},
   "source": [
    "To call the our functions we need to run the cells where they have been written, and then call them wherever needed. This can be done in the same cell after the function definition, or in later cells."
   ]
  },
  {
   "cell_type": "code",
   "execution_count": null,
   "id": "804cfae1",
   "metadata": {},
   "outputs": [],
   "source": [
    "img = load_in_greyscale('airplane-grey.png')\n",
    "imshow(img);"
   ]
  },
  {
   "cell_type": "markdown",
   "id": "fb4fa642",
   "metadata": {},
   "source": [
    "## Task 2.5\n",
    "A normalised vector is one whose norm (the square root of the sum of each of its elements squared) is $1$. To normalize a vector, we divide each element by the vector's current norm. To get the norm of a NumPy vector we use the function `np.linalg.norm(x)`. For instance, `norm_x = np.linalg.norm(x)`\n",
    "\n",
    "Attempt to write a function `normalise_vector` and compare it to the sample implementation at the bottom of the notebook (try to complete your attempt before looking ahead!). For reference, the following call:\n",
    "```\n",
    "initial = np.array([3., 4.])\n",
    "normalised = normalise_vector(initial)\n",
    "print(normalised)\n",
    "```\n",
    "should produce a result of:\n",
    "```[0.6 0.8]```\n"
   ]
  },
  {
   "cell_type": "code",
   "execution_count": null,
   "id": "fd66aac2",
   "metadata": {},
   "outputs": [],
   "source": [
    "# WRITE YOUR CODE BELOW (DO NOT DELETE THIS LINE)\n",
    "\n",
    "def normalise_vector(v):\n",
    "    ret =  v / np.linalg.norm(v)  # just divide the vector by its norm!\n",
    "    return ret\n",
    "\n",
    "# test the function:\n",
    "initial = np.array([3., 4.])\n",
    "normalised = normalise_vector(initial)\n",
    "print(normalised)\n",
    "\n",
    "# WRITE YOUR CODE ABOVE (DO NOT DELETE THIS LINE)"
   ]
  },
  {
   "cell_type": "markdown",
   "id": "3e20e58f",
   "metadata": {},
   "source": [
    "## Consolidating understanding and measuring execution time\n",
    "You should now be familiar with the **basic Python syntax** (variables, conditionals, loops and functions) and with most **relevant modules** (NumPy and SciKit-image).\n",
    "\n",
    "Complete the following tasks to test and consolidate your understanding. Note that in some cases you may have to refer to the previous labs or online documentation.\n",
    "\n",
    "## Task 2.6\n",
    "The following function takes a single parameter `K` and returns a vector containing the values of the equation $y = x*cos(x)-sin(π)$ for each integer in the range 1:K."
   ]
  },
  {
   "cell_type": "code",
   "execution_count": null,
   "id": "21654bb6",
   "metadata": {},
   "outputs": [],
   "source": [
    "from math import pi\n",
    "\n",
    "def loop_based_fn(K):\n",
    "    ret = np.zeros((1,K))\n",
    "    for i in range(K):\n",
    "        ret[0,i] = i*np.cos(i) - np.sin(pi)\n",
    "    return ret\n",
    "\n",
    "print(f'Example: {loop_based_fn(10)}')"
   ]
  },
  {
   "cell_type": "markdown",
   "id": "d44dfa30",
   "metadata": {},
   "source": [
    "Use your knowledge of Python to write an equivalent `vectorised_fn` function without loops."
   ]
  },
  {
   "cell_type": "code",
   "execution_count": null,
   "id": "e87ea733",
   "metadata": {
    "scrolled": true
   },
   "outputs": [],
   "source": [
    "# WRITE YOUR CODE BELOW (DO NOT DELETE THIS LINE)\n",
    "\n",
    "def vectorised_fn(K):\n",
    "    ret = np.arange(K).reshape(1, K)  # first fill values, then reshape the vector to (1, K) to match the shape from the loop-based fn\n",
    "    ret = ret * np.cos(ret) - np.sin(pi)\n",
    "    return ret\n",
    "\n",
    "print(f'Example: {vectorised_fn(10)}')\n",
    "\n",
    "# WRITE YOUR CODE ABOVE (DO NOT DELETE THIS LINE)"
   ]
  },
  {
   "cell_type": "markdown",
   "id": "f3e3cfc9",
   "metadata": {},
   "source": [
    "## Task 2.7\n",
    "We have claimed that vector-based functions in Python are typically faster that their loop-based counterparts. In this task we will try to validate this measuring the execution time. We are going to use the function `time` within the `time` module *i.e.*, `time.time()`. The function returns a *timestamp* (the number of seconds since a point in time in the past -- January 1st 1970).\n",
    "\n",
    "See the following example:"
   ]
  },
  {
   "cell_type": "code",
   "execution_count": null,
   "id": "f70a9a28",
   "metadata": {},
   "outputs": [],
   "source": [
    "import time\n",
    "\n",
    "print(f'Number of seconds since January 1st 1970: {time.time()}')"
   ]
  },
  {
   "cell_type": "markdown",
   "id": "940e4f3c",
   "metadata": {},
   "source": [
    "This allows us to measure the time spent in a code block:"
   ]
  },
  {
   "cell_type": "code",
   "execution_count": null,
   "id": "7692ef08",
   "metadata": {},
   "outputs": [],
   "source": [
    "print('Sleeping for 5 seconds...', end=' ')\n",
    "\n",
    "timestamp_a = time.time()\n",
    "time.sleep(5)\n",
    "timestamp_b = time.time()\n",
    "\n",
    "print('done')\n",
    "time_difference = timestamp_b - timestamp_a\n",
    "print(f'That took {time_difference} seconds.')\n"
   ]
  },
  {
   "cell_type": "markdown",
   "id": "e7642524",
   "metadata": {},
   "source": [
    "Your task is to measure the time spent by the functions `loop_based_fn` and `vectorised_fn` (your vectorised version) for an input value of 1000000."
   ]
  },
  {
   "cell_type": "code",
   "execution_count": null,
   "id": "731553ea",
   "metadata": {},
   "outputs": [],
   "source": [
    "# WRITE YOUR CODE BELOW (DO NOT DELETE THIS LINE)\n",
    "n = 1000000\n",
    "\n",
    "start_time_loop = time.time()\n",
    "loop_based_fn(n)\n",
    "stop_time_loop = time.time()\n",
    "print(f'Loop-based function took {stop_time_loop-start_time_loop:.4f} seconds for n={n}')\n",
    "\n",
    "start_time_loop = time.time()\n",
    "vectorised_fn(n)\n",
    "stop_time_loop = time.time()\n",
    "print(f'Vectorised function took {stop_time_loop-start_time_loop:.4f} seconds for n={n}')\n",
    "\n",
    "# WRITE YOUR CODE ABOVE (DO NOT DELETE THIS LINE)timestamp_a = time.time()"
   ]
  },
  {
   "cell_type": "markdown",
   "id": "ba8d3868",
   "metadata": {},
   "source": [
    "Even though the difference in absolute terms is not that big -under two seconds in my computer- the ratio is considerable.\n",
    "\n",
    "There are more sophisticated ways to measure the time taken by algorithms, but it is out of the scope of the module. For those interested in the topic, please refer to the documentation of the `timeit` module: https://docs.python.org/3/library/timeit.html.\n",
    "\n",
    "## End of Lab 02\n",
    "Below you can find the solutions for the tasks, please do not look at them unless you really need help."
   ]
  },
  {
   "cell_type": "markdown",
   "id": "6972078d",
   "metadata": {},
   "source": [
    "## Sample solutions"
   ]
  },
  {
   "cell_type": "code",
   "execution_count": null,
   "id": "d85ae037",
   "metadata": {},
   "outputs": [],
   "source": [
    "# Task 2.5\n",
    "def normalise_vector(v):\n",
    "    ret =  v / np.linalg.norm(v)\n",
    "    return ret\n",
    "\n",
    "initial = np.array([3., 4.])\n",
    "normalised = normalise_vector(initial)\n",
    "print (normalised)"
   ]
  },
  {
   "cell_type": "markdown",
   "id": "4e1cbad9-d22d-4b59-be51-70104ea8fc56",
   "metadata": {},
   "source": [
    "**Extra:** Can you think of a special case that would need to be treated in this function? How would you incorporate this?"
   ]
  }
 ],
 "metadata": {
  "kernelspec": {
   "display_name": "Python 3 (ipykernel)",
   "language": "python",
   "name": "python3"
  },
  "language_info": {
   "codemirror_mode": {
    "name": "ipython",
    "version": 3
   },
   "file_extension": ".py",
   "mimetype": "text/x-python",
   "name": "python",
   "nbconvert_exporter": "python",
   "pygments_lexer": "ipython3",
   "version": "3.11.13"
  }
 },
 "nbformat": 4,
 "nbformat_minor": 5
}
