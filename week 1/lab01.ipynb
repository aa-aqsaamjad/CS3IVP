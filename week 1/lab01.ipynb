{
 "cells": [
  {
   "cell_type": "markdown",
   "metadata": {},
   "source": [
    "# <center>Aston University <br/><br/> CS3IVP: Digital Image and Video Processing <br/><br/> Lab 01: Working with matrices and vectorising code</center>\n",
    "\n",
    "Academic year: 2024-2025 <br/>\n",
    "Lecturer: Dr. Debaleena Roy<a href=\"mailto:d.roy@aston.ac.uk\">d.roy@aston.ac.uk</a> <br/>\n",
    "Office: MB265K <br/>\n",
    "\n",
    "## Goals\n",
    "By the end of this session, you should know:\n",
    "1. how to create, access and update NumPy matrices and vectors,\n",
    "2. how to perform element-wise operations,\n",
    "3. how to work with array slices\n",
    "4. how to work with boolean masks\n",
    "5. how to vectorise loop-based matrix manipulation code.\n",
    "\n",
    "You can get extra help by looking at the official documentation of the software we'll use:\n",
    "- [Jupyter - https://jupyter.org/documentation](https://jupyter.org/documentation)\n",
    "- [Python 3 - https://docs.python.org/3/tutorial/](https://docs.python.org/3/tutorial/)\n",
    "- [NumPy - https://numpy.org/doc/](https://numpy.org/doc/)\n",
    "\n",
    "\n",
    "## Instructions\n",
    "No submission is required for this laboratory."
   ]
  },
  {
   "cell_type": "code",
   "execution_count": null,
   "metadata": {},
   "outputs": [],
   "source": []
  },
  {
   "cell_type": "markdown",
   "metadata": {},
   "source": [
    "## Recap and minor comments\n",
    "In `Lab 00` we learned how to create and operate matrices:"
   ]
  },
  {
   "cell_type": "code",
   "execution_count": 2,
   "metadata": {},
   "outputs": [],
   "source": [
    "import numpy\n",
    "\n",
    "matrix1 = numpy.array([\n",
    "    [1,2],\n",
    "    [3,4],\n",
    "    [5,6]])\n",
    "\n",
    "matrix2 = numpy.array([\n",
    "    [10,20],\n",
    "    [10,20],\n",
    "    [10,20]])"
   ]
  },
  {
   "cell_type": "markdown",
   "metadata": {},
   "source": [
    "We can add and multiply matrices of the same shape using the regular operators, as NumPy works element-wise by default (i.e., `*` is not interpreted as matrix multiplication but as element-wise matrix multiplication). For \"real\" matrix multiplication we need to use the `@` operator. We will see more on that later."
   ]
  },
  {
   "cell_type": "code",
   "execution_count": 3,
   "metadata": {},
   "outputs": [
    {
     "name": "stdout",
     "output_type": "stream",
     "text": [
      "[[11 22]\n",
      " [13 24]\n",
      " [15 26]]\n",
      "[[ 10  40]\n",
      " [ 30  80]\n",
      " [ 50 120]]\n"
     ]
    }
   ],
   "source": [
    "print( matrix1 + matrix2 )\n",
    "\n",
    "print( matrix1 * matrix2 )"
   ]
  },
  {
   "cell_type": "markdown",
   "metadata": {},
   "source": [
    "We also covered the most useful NumPy array attributes:\n",
    "- `ndim` is the number of dimensions of the array.\n",
    "- `shape` is a tuple containing the length of the array in each dimension.\n",
    "- `size` is the number of items in the array.\n",
    "- `dtype` is the type of the items the array holds. A lot of NumPy functions accept `dtype` as a parameter as well.\n",
    "\n",
    "See the corresponding values for our previous example:"
   ]
  },
  {
   "cell_type": "code",
   "execution_count": 4,
   "metadata": {},
   "outputs": [
    {
     "name": "stdout",
     "output_type": "stream",
     "text": [
      "addition.ndim is:   2\n",
      "addition.shape is:  (3, 2)\n",
      "addition.size is:   6\n",
      "addition.dtypoe is: int64\n"
     ]
    }
   ],
   "source": [
    "print(f'addition.ndim is:   {matrix1.ndim}')\n",
    "print(f'addition.shape is:  {matrix1.shape}')\n",
    "print(f'addition.size is:   {matrix1.size}')\n",
    "print(f'addition.dtypoe is: {matrix1.dtype}')"
   ]
  },
  {
   "cell_type": "markdown",
   "metadata": {},
   "source": [
    "We also covered other methods to create matrices: `zeros`, `ones`, `empty` or `random.random`, each of which receive a tuple with the dimensions:\n",
    " - `zeros` generates matrices filled with zeros.\n",
    " - `ones` generates matrices filled with ones.\n",
    " - `empty` generates matrices, uninitialised.\n",
    " - `random.random` generates matrices with random numbers (uniformly distributed within the range $(0,1)$)."
   ]
  },
  {
   "cell_type": "code",
   "execution_count": 5,
   "metadata": {},
   "outputs": [
    {
     "name": "stdout",
     "output_type": "stream",
     "text": [
      "zeros\n",
      "[[0. 0.]\n",
      " [0. 0.]]\n",
      "ones\n",
      "[[1. 1.]\n",
      " [1. 1.]]\n",
      "empty\n",
      "[[1.23516411e-322 6.08382738e-315 0.00000000e+000]\n",
      " [0.00000000e+000 0.00000000e+000 0.00000000e+000]\n",
      " [0.00000000e+000 0.00000000e+000 0.00000000e+000]]\n",
      "random\n",
      "[[0.50440343 0.58062364 0.33404928]\n",
      " [0.47180403 0.23381295 0.01878936]\n",
      " [0.25927494 0.96545469 0.91128471]]\n"
     ]
    }
   ],
   "source": [
    "print('zeros')\n",
    "z = numpy.zeros((2,2))\n",
    "print(z)\n",
    "\n",
    "print('ones')\n",
    "o = numpy.ones((2,2))\n",
    "print(o)\n",
    "\n",
    "print('empty')\n",
    "e = numpy.empty((3,3))\n",
    "print(e)\n",
    "\n",
    "print('random')\n",
    "r = numpy.random.random((3,3))\n",
    "print(r)"
   ]
  },
  {
   "cell_type": "markdown",
   "metadata": {},
   "source": [
    "To access single elements of a matrix we specify the indices for each dimension in square brackets, separated by commas. For instance, to access the element in the second row, first column of the matrix we generated earlier using `numpy.random.random()` we can use the following code:"
   ]
  },
  {
   "cell_type": "code",
   "execution_count": 6,
   "metadata": {},
   "outputs": [
    {
     "name": "stdout",
     "output_type": "stream",
     "text": [
      "0.47180403298386164\n"
     ]
    }
   ],
   "source": [
    "print(r[1,0])"
   ]
  },
  {
   "cell_type": "markdown",
   "metadata": {},
   "source": [
    "In this lab, we are going to continue from where we left it in `Lab 00`, but with a small change. Instead of importing numpy as:\n",
    "\n",
    "`import numpy`\n",
    "\n",
    "we will do the import using a Python's feature that allows us to rename modules:\n",
    "\n",
    "`import numpy as np`\n",
    "\n",
    "This is how NumPy is usually imported, just for the sake of conciseness."
   ]
  },
  {
   "cell_type": "code",
   "execution_count": 7,
   "metadata": {},
   "outputs": [],
   "source": [
    "import numpy as np"
   ]
  },
  {
   "cell_type": "markdown",
   "metadata": {},
   "source": [
    "### Slicing lists\n",
    "Slicing (selecting contiguous subsets of matrices) is going to be a very important operation in the module. Before learning how to slice matrices (that we will use to store images), let's do the same with basic Python lists. Consider the following list:"
   ]
  },
  {
   "cell_type": "code",
   "execution_count": 8,
   "metadata": {},
   "outputs": [
    {
     "name": "stdout",
     "output_type": "stream",
     "text": [
      "Our list has 10 elements: ['a', 'b', 'c', 'd', 'e', 'f', 'g', 'h', 'i', 'j']\n",
      "The element in index 5 is f.\n"
     ]
    }
   ],
   "source": [
    "l = ['a', 'b', 'c', 'd', 'e', 'f', 'g', 'h', 'i', 'j']\n",
    "\n",
    "print(f'Our list has {len(l)} elements: {l}')\n",
    "print(f'The element in index 5 is {l[5]}.')"
   ]
  },
  {
   "cell_type": "markdown",
   "metadata": {},
   "source": [
    "We have used the square brackets to select one single element. We can also use multiple using a colon (`:`). We will specify the beginning and the first element **not** to be included. See the following example:"
   ]
  },
  {
   "cell_type": "code",
   "execution_count": 9,
   "metadata": {},
   "outputs": [
    {
     "name": "stdout",
     "output_type": "stream",
     "text": [
      "The elements in index 5 to 6 are ['f'].\n",
      "The elements in index 5 to 7 are ['f', 'g'].\n"
     ]
    }
   ],
   "source": [
    "print(f'The elements in index 5 to 6 are {l[5:6]}.')\n",
    "print(f'The elements in index 5 to 7 are {l[5:7]}.')"
   ]
  },
  {
   "cell_type": "markdown",
   "metadata": {},
   "source": [
    "We can also specify just the beginning or the end:"
   ]
  },
  {
   "cell_type": "code",
   "execution_count": 10,
   "metadata": {},
   "outputs": [
    {
     "name": "stdout",
     "output_type": "stream",
     "text": [
      "The elements from index 5 to the end are ['f', 'g', 'h', 'i', 'j'].\n",
      "The elements from the beginning to index 5 (not included) ['a', 'b', 'c', 'd', 'e'].\n"
     ]
    }
   ],
   "source": [
    "print(f'The elements from index 5 to the end are {l[5:]}.')\n",
    "print(f'The elements from the beginning to index 5 (not included) {l[:5]}.')"
   ]
  },
  {
   "cell_type": "markdown",
   "metadata": {},
   "source": [
    "We can also use negative numbers to specify indices from the end, going backwards:"
   ]
  },
  {
   "cell_type": "code",
   "execution_count": 11,
   "metadata": {},
   "outputs": [
    {
     "name": "stdout",
     "output_type": "stream",
     "text": [
      "The elements from index 5 to the one before end are ['f', 'g', 'h', 'i'].\n"
     ]
    }
   ],
   "source": [
    "print(f'The elements from index 5 to the one before end are {l[5:-1]}.')"
   ]
  },
  {
   "cell_type": "markdown",
   "metadata": {},
   "source": [
    "The last slicing feature that we will need to know is a third optional field used to specify the step size (it can be negative):"
   ]
  },
  {
   "cell_type": "code",
   "execution_count": 12,
   "metadata": {},
   "outputs": [
    {
     "name": "stdout",
     "output_type": "stream",
     "text": [
      "The elements from index 0 to the end (included, see the \"+1\") with a step of two are: ['a', 'c', 'e', 'g', 'i'].\n",
      "The reversed elements from index 0 to the end (included) with a step of two are: ['j', 'h', 'f', 'd', 'b'].\n"
     ]
    }
   ],
   "source": [
    "print(f'The elements from index 0 to the end (included, see the \"+1\") with a step of two are: {l[0:len(l)+1:2]}.')\n",
    "print(f'The reversed elements from index 0 to the end (included) with a step of two are: {l[len(l)+1:0:-2]}.')"
   ]
  },
  {
   "cell_type": "markdown",
   "metadata": {},
   "source": [
    "## Slicing matrices\n",
    "Now that we know how to do slicing on lists we only need to learn that we will generally use as many slicing expressions as dimensions in our matrices (separated by commas). If we use less than that Python will assume that we are doing slicing only in the first dimensions.\n",
    "\n",
    "See the following example:"
   ]
  },
  {
   "cell_type": "code",
   "execution_count": 13,
   "metadata": {},
   "outputs": [
    {
     "name": "stdout",
     "output_type": "stream",
     "text": [
      "Whole matrix\n",
      "[[1 2 3 4 5]\n",
      " [2 3 4 5 6]\n",
      " [3 4 5 6 7]\n",
      " [4 5 6 7 8]\n",
      " [5 6 7 8 9]]\n",
      "Skipping the first and last row and column:\n",
      "[[3 4 5]\n",
      " [4 5 6]\n",
      " [5 6 7]]\n",
      "Skipping the first and last row:\n",
      "[[2 3 4 5 6]\n",
      " [3 4 5 6 7]\n",
      " [4 5 6 7 8]]\n"
     ]
    }
   ],
   "source": [
    "A = np.array([\n",
    "    [1,2,3,4,5],\n",
    "    [2,3,4,5,6],\n",
    "    [3,4,5,6,7],\n",
    "    [4,5,6,7,8],\n",
    "    [5,6,7,8,9]])\n",
    "\n",
    "print('Whole matrix')\n",
    "print(A)\n",
    "\n",
    "print('Skipping the first and last row and column:')\n",
    "print(A[1:4, 1:4])\n",
    "\n",
    "print('Skipping the first and last row:')\n",
    "print(A[1:4])\n"
   ]
  },
  {
   "cell_type": "markdown",
   "metadata": {},
   "source": [
    "Accessing a single item in a multidimensional array is exactly like accessing an slice, specifying a single element per dimension. For instance, to access and print the item in the 2nd row, 3rd column of the previous matrix $A$ we just use $1$ and $2$ as the indices (remember indices start at 0):"
   ]
  },
  {
   "cell_type": "code",
   "execution_count": 14,
   "metadata": {},
   "outputs": [
    {
     "name": "stdout",
     "output_type": "stream",
     "text": [
      "We get 4\n"
     ]
    }
   ],
   "source": [
    "value = A[1, 2]\n",
    "print(f'We get {value}')"
   ]
  },
  {
   "cell_type": "markdown",
   "metadata": {},
   "source": [
    "### Transposition\n",
    "To transpose matrices we use the function `np.transpose`. It returns a transposed matrix and takes two arguments:\n",
    "- a: The array to transpose.\n",
    "- axes: An array or tuple indicating which is the desired order. If not specified, it reverses the order."
   ]
  },
  {
   "cell_type": "code",
   "execution_count": 15,
   "metadata": {},
   "outputs": [
    {
     "name": "stdout",
     "output_type": "stream",
     "text": [
      "A\n",
      "[[1 2 3 4]\n",
      " [1 2 3 4]]\n",
      "\n",
      "transposed\n",
      "[[1 1]\n",
      " [2 2]\n",
      " [3 3]\n",
      " [4 4]]\n",
      "\n"
     ]
    }
   ],
   "source": [
    "A = np.array([[1,2,3,4], [1,2,3,4]])\n",
    "print('A')\n",
    "print(A)\n",
    "print('')\n",
    "\n",
    "B = np.transpose(A, [1,0])\n",
    "print('transposed')\n",
    "print(B)\n",
    "print('')\n"
   ]
  },
  {
   "cell_type": "markdown",
   "metadata": {},
   "source": [
    "### Element-wise matrix multiplication\n",
    "In the next cell we demonstrate how element-wise multiplication works, with a scalar and with a matrix. In both cases, we use the `*` operator for element-wise multiplication."
   ]
  },
  {
   "cell_type": "code",
   "execution_count": 16,
   "metadata": {},
   "outputs": [
    {
     "name": "stdout",
     "output_type": "stream",
     "text": [
      "C\n",
      "[[1. 1. 1. 1.]\n",
      " [1. 1. 1. 1.]]\n",
      "\n",
      "D\n",
      "[[2. 2. 2. 2.]\n",
      " [2. 2. 2. 2.]]\n",
      "\n",
      "E\n",
      "[[2. 4. 6. 8.]\n",
      " [2. 4. 6. 8.]]\n",
      "\n"
     ]
    }
   ],
   "source": [
    "C = np.ones(A.shape)\n",
    "print(f'C\\n{C}\\n')\n",
    "\n",
    "D = C * 2\n",
    "print(f'D\\n{D}\\n')\n",
    "\n",
    "E = A * D\n",
    "print(f'E\\n{E}\\n')"
   ]
  },
  {
   "cell_type": "markdown",
   "metadata": {},
   "source": [
    "### Matrix multiplication\n",
    "It might have come to you as a surprise that we can multiply two $2x4$ matrices using the $*$ operator. That is because in NumPy element-wise is the default. In fact, most of the operations we will perform with matrices in CS3330 will be element-wise. It is still convenient to know the difference and be able to use both. To perform **actual** matrix multiplication we need to use the $@$ operator:"
   ]
  },
  {
   "cell_type": "code",
   "execution_count": 18,
   "metadata": {},
   "outputs": [
    {
     "name": "stdout",
     "output_type": "stream",
     "text": [
      "(2, 4) (2, 4)\n"
     ]
    },
    {
     "ename": "ValueError",
     "evalue": "matmul: Input operand 1 has a mismatch in its core dimension 0, with gufunc signature (n?,k),(k,m?)->(n?,m?) (size 2 is different from 4)",
     "output_type": "error",
     "traceback": [
      "\u001b[31m---------------------------------------------------------------------------\u001b[39m",
      "\u001b[31mValueError\u001b[39m                                Traceback (most recent call last)",
      "\u001b[36mCell\u001b[39m\u001b[36m \u001b[39m\u001b[32mIn[18]\u001b[39m\u001b[32m, line 3\u001b[39m\n\u001b[32m      1\u001b[39m \u001b[38;5;28mprint\u001b[39m(A.shape, D.shape)\n\u001b[32m----> \u001b[39m\u001b[32m3\u001b[39m E = \u001b[43mA\u001b[49m\u001b[43m \u001b[49m\u001b[43m@\u001b[49m\u001b[43m \u001b[49m\u001b[43mD\u001b[49m\n\u001b[32m      4\u001b[39m \u001b[38;5;28mprint\u001b[39m(\u001b[33mf\u001b[39m\u001b[33m'\u001b[39m\u001b[33mE\u001b[39m\u001b[38;5;130;01m\\n\u001b[39;00m\u001b[38;5;132;01m{\u001b[39;00mE\u001b[38;5;132;01m}\u001b[39;00m\u001b[38;5;130;01m\\n\u001b[39;00m\u001b[33m'\u001b[39m)\n",
      "\u001b[31mValueError\u001b[39m: matmul: Input operand 1 has a mismatch in its core dimension 0, with gufunc signature (n?,k),(k,m?)->(n?,m?) (size 2 is different from 4)"
     ]
    }
   ],
   "source": [
    "print(A.shape, D.shape)\n",
    "\n",
    "E = A @ D\n",
    "print(f'E\\n{E}\\n')"
   ]
  },
  {
   "cell_type": "markdown",
   "metadata": {},
   "source": [
    "As you see from the error (please **remember to read error messages with attention**), to multiply matrices in the conventional way (not element-wise), the number of columns of the first matrix ($k$ in the error message) has to match the number of rows in the second. If we transpose one of the matrices using `np.transpose`, we meet that condition (for the previous example, not in general!):"
   ]
  },
  {
   "cell_type": "code",
   "execution_count": 19,
   "metadata": {},
   "outputs": [
    {
     "name": "stdout",
     "output_type": "stream",
     "text": [
      "(2, 4) (4, 2)\n",
      "E\n",
      "[[20. 20.]\n",
      " [20. 20.]]\n",
      "\n"
     ]
    }
   ],
   "source": [
    "transposed_D = np.transpose(D)\n",
    "\n",
    "print(A.shape, transposed_D.shape)\n",
    "\n",
    "E = A @ transposed_D\n",
    "print(f'E\\n{E}\\n')"
   ]
  },
  {
   "cell_type": "markdown",
   "metadata": {},
   "source": [
    "### Saving and loading matrices\n"
   ]
  },
  {
   "cell_type": "code",
   "execution_count": 20,
   "metadata": {},
   "outputs": [
    {
     "name": "stdout",
     "output_type": "stream",
     "text": [
      "A\n",
      "[[1. 1.]\n",
      " [1. 1.]]\n",
      "\n",
      "B\n",
      "[[1 2]\n",
      " [3 4]]\n",
      "\n"
     ]
    }
   ],
   "source": [
    "A = np.ones((2,2))\n",
    "print(f'A\\n{A}\\n')\n",
    "\n",
    "B = np.array([[1,2], [3,4]])\n",
    "print(f'B\\n{B}\\n')\n",
    "\n",
    "np.savez('output.npz', A=A, B=B, number=1)"
   ]
  },
  {
   "cell_type": "code",
   "execution_count": 21,
   "metadata": {},
   "outputs": [
    {
     "name": "stdout",
     "output_type": "stream",
     "text": [
      "A\n",
      "B\n",
      "number\n"
     ]
    }
   ],
   "source": [
    "data = np.load('output.npz')\n",
    "for key in data:\n",
    "    print(key)"
   ]
  },
  {
   "cell_type": "code",
   "execution_count": 22,
   "metadata": {},
   "outputs": [
    {
     "name": "stdout",
     "output_type": "stream",
     "text": [
      "loaded_A\n",
      "[[1. 1.]\n",
      " [1. 1.]]\n",
      "\n",
      "loaded_B\n",
      "[[1 2]\n",
      " [3 4]]\n",
      "\n",
      "loaded_n\n",
      "1\n",
      "\n"
     ]
    }
   ],
   "source": [
    "loaded_A = data['A']\n",
    "print(f'loaded_A\\n{loaded_A}\\n')\n",
    "\n",
    "loaded_B = data['B']\n",
    "print(f'loaded_B\\n{loaded_B}\\n')\n",
    "\n",
    "loaded_n = data['number']\n",
    "print(f'loaded_n\\n{loaded_n}\\n')"
   ]
  },
  {
   "cell_type": "markdown",
   "metadata": {},
   "source": [
    "##  Vectorising loops\n",
    "\n",
    "You should now be in a position to start writing Python code working with NumPy arrays in terms of vectors and matrices, rather than loops. We will look at a simple example of taking loop-based code and vectorising it, and then you will complete some tasks to consolidate the learning.\n",
    "\n",
    "For all examples, we will assume that we have the following matrices \n",
    "in our namespace:"
   ]
  },
  {
   "cell_type": "code",
   "execution_count": 23,
   "metadata": {},
   "outputs": [
    {
     "name": "stdout",
     "output_type": "stream",
     "text": [
      "v\n",
      "[[-0.347 -0.244  0.188 -0.023  0.463 -0.339  0.126 -0.234]]\n",
      "M\n",
      "[[ 0.095  0.227 -0.06  -0.394  0.092  0.32  -0.02   0.281]\n",
      " [ 0.449 -0.02  -0.427 -0.153 -0.1   -0.008  0.413  0.459]\n",
      " [-0.409  0.227  0.288  0.156 -0.249  0.302  0.391 -0.338]\n",
      " [ 0.248  0.273 -0.007 -0.285 -0.439  0.429 -0.278  0.047]\n",
      " [ 0.237 -0.161  0.017 -0.361 -0.168  0.189 -0.324  0.261]\n",
      " [ 0.391 -0.489  0.459 -0.222 -0.268  0.268 -0.268  0.303]\n",
      " [-0.257  0.158  0.314 -0.223  0.178  0.216 -0.455  0.149]\n",
      " [ 0.127 -0.098  0.016  0.038 -0.01  -0.321  0.395  0.173]]\n",
      "N\n",
      "[[-0.256  0.434 -0.244  0.362 -0.291  0.019 -0.221  0.303]\n",
      " [-0.106 -0.028  0.413 -0.311 -0.1   -0.178  0.487  0.045]\n",
      " [-0.464 -0.097 -0.15   0.446  0.379  0.21  -0.192 -0.41 ]\n",
      " [ 0.253 -0.288 -0.301 -0.064 -0.076 -0.216  0.167  0.025]\n",
      " [-0.191  0.13  -0.483  0.396 -0.265 -0.107  0.057 -0.436]\n",
      " [-0.063 -0.121  0.414 -0.228  0.076  0.386  0.311  0.49 ]\n",
      " [-0.498 -0.48  -0.051  0.487 -0.153  0.013 -0.392  0.184]\n",
      " [ 0.472  0.423 -0.368 -0.172 -0.446  0.211  0.123  0.312]]\n"
     ]
    }
   ],
   "source": [
    "# The following sets the floating point precision WHEN PRINTING\n",
    "np.set_printoptions(precision=3)\n",
    "\n",
    "# np.random.rand works similar to np.ones. Instead of 1's,\n",
    "# it generates numbers using a standard normal distribution\n",
    "v = np.random.random((1,8))-0.5\n",
    "print(f'v\\n{v}')\n",
    "M = np.random.random((8,8))-0.5\n",
    "print(f'M\\n{M}')\n",
    "N = np.random.random((8,8))-0.5\n",
    "print(f'N\\n{N}')"
   ]
  },
  {
   "cell_type": "markdown",
   "metadata": {},
   "source": [
    "Here, $M$ and $N$ are $8$ by $8$ matrices and $v$ is a length $8$ row vector, containing random elements drawn uniformly at random from the range $(-0.5,0.5)$."
   ]
  },
  {
   "cell_type": "markdown",
   "metadata": {},
   "source": [
    "The following cell sets all negative elements of $v$ to 0:"
   ]
  },
  {
   "cell_type": "code",
   "execution_count": 24,
   "metadata": {},
   "outputs": [
    {
     "name": "stdout",
     "output_type": "stream",
     "text": [
      "[[0.    0.    0.188 0.    0.463 0.    0.126 0.   ]]\n"
     ]
    }
   ],
   "source": [
    "# We make the code work on a copy of the v to avoid overwriting it\n",
    "w = np.array(v)\n",
    "for i in range(w.shape[1]):\n",
    "    if w[0,i] < 0:\n",
    "        w[0,i] = 0\n",
    "print(w)"
   ]
  },
  {
   "cell_type": "markdown",
   "metadata": {},
   "source": [
    "To vectorise this code, we need to learn about a new way to access matrices: **boolean masking**. It is very intuitive. Read the following code and try to guess what it does:"
   ]
  },
  {
   "cell_type": "code",
   "execution_count": 25,
   "metadata": {},
   "outputs": [
    {
     "name": "stdout",
     "output_type": "stream",
     "text": [
      "[[ True  True False  True False  True False  True]]\n"
     ]
    }
   ],
   "source": [
    "bmask = v < 0\n",
    "print(bmask)"
   ]
  },
  {
   "cell_type": "markdown",
   "metadata": {},
   "source": [
    "What the code does is to compute a matrix of the same shape as $v$ where the items that meet the condition(s) are set to `True` and the rest are set to `False`.\n",
    "\n",
    "Note that the inequality in the index matches the inequality in the for loop. **This is a common pattern**.\n",
    "\n",
    "We can use that matrix to filter the elements to which an operation applies:"
   ]
  },
  {
   "cell_type": "code",
   "execution_count": 26,
   "metadata": {
    "scrolled": true
   },
   "outputs": [
    {
     "name": "stdout",
     "output_type": "stream",
     "text": [
      "[[0.    0.    0.188 0.    0.463 0.    0.126 0.   ]]\n"
     ]
    }
   ],
   "source": [
    "# We make the code work on a copy of the v to avoid overwriting it\n",
    "w = np.array(v)\n",
    "bmask = w < 0\n",
    "w[bmask] = 0\n",
    "print(w)"
   ]
  },
  {
   "cell_type": "markdown",
   "metadata": {},
   "source": [
    "We can also do it in a single line. The following code use _the same_ boolean mask, but does not store it in a variable:"
   ]
  },
  {
   "cell_type": "code",
   "execution_count": 27,
   "metadata": {},
   "outputs": [
    {
     "name": "stdout",
     "output_type": "stream",
     "text": [
      "[[0.    0.    0.188 0.    0.463 0.    0.126 0.   ]]\n"
     ]
    }
   ],
   "source": [
    "# We make the code work on a copy of the v to avoid overwriting it\n",
    "w = np.array(v)\n",
    "w[w < 0] = 0\n",
    "print(w)"
   ]
  },
  {
   "cell_type": "markdown",
   "metadata": {},
   "source": [
    "NumPy applies logical operators (e.g., `and`, `or`) matrix-wise. Therefore, to make more complex boolean masks, will use `np.logical_and()`, `np.logical_or()`, `np.logical_not()` or `np.logical_xor()`. See the following examples:"
   ]
  },
  {
   "cell_type": "code",
   "execution_count": 28,
   "metadata": {
    "scrolled": true
   },
   "outputs": [
    {
     "name": "stdout",
     "output_type": "stream",
     "text": [
      "A:\n",
      "[[-0.046  0.112 -0.402  0.337 -0.342]\n",
      " [ 0.485  0.051  0.262  0.487  0.441]\n",
      " [ 0.256  0.366 -0.144  0.433  0.246]\n",
      " [-0.468  0.251  0.294  0.358 -0.473]\n",
      " [-0.365 -0.001  0.146  0.389  0.479]]\n",
      "B:\n",
      "[[-0.098 -0.07  -0.398  0.413  0.462]\n",
      " [-0.272  0.208 -0.262 -0.46  -0.241]\n",
      " [ 0.137 -0.033 -0.04   0.5    0.119]\n",
      " [ 0.396  0.095 -0.029 -0.202  0.491]\n",
      " [ 0.094  0.143  0.496  0.111 -0.408]]\n",
      "A>B:\n",
      "[[ True  True False False False]\n",
      " [ True False  True  True  True]\n",
      " [ True  True False False  True]\n",
      " [False  True  True  True False]\n",
      " [False False False  True  True]]\n",
      "B>0:\n",
      "[[False False False  True  True]\n",
      " [False  True False False False]\n",
      " [ True False False  True  True]\n",
      " [ True  True False False  True]\n",
      " [ True  True  True  True False]]\n",
      "result:\n",
      "[[False False False False False]\n",
      " [False False False False False]\n",
      " [ True False False False  True]\n",
      " [False  True False False False]\n",
      " [False False False  True False]]\n"
     ]
    }
   ],
   "source": [
    "A = np.random.random((5,5))-0.5\n",
    "print(f'A:\\n{A}')\n",
    "B = np.random.random((5,5))-0.5\n",
    "print(f'B:\\n{B}')\n",
    "\n",
    "bmask1 = A>B\n",
    "bmask2 = B>0\n",
    "print(f'A>B:\\n{bmask1}')\n",
    "print(f'B>0:\\n{bmask2}')\n",
    "\n",
    "print(f'result:\\n{np.logical_and(bmask1, bmask2)}')"
   ]
  },
  {
   "cell_type": "markdown",
   "metadata": {},
   "source": [
    "The following cell does not use conditionals. It multiplies elements of $M$ by the _cosine_ of the corresponding elements (with the same index) in $N$ and assigns the result to a new matrix P.\n",
    "\n"
   ]
  },
  {
   "cell_type": "code",
   "execution_count": 29,
   "metadata": {},
   "outputs": [
    {
     "name": "stdout",
     "output_type": "stream",
     "text": [
      "[[ 0.092  0.206 -0.058 -0.368  0.088  0.32  -0.02   0.268]\n",
      " [ 0.447 -0.02  -0.391 -0.145 -0.1   -0.008  0.365  0.458]\n",
      " [-0.366  0.225  0.285  0.14  -0.231  0.296  0.383 -0.31 ]\n",
      " [ 0.24   0.261 -0.007 -0.284 -0.437  0.419 -0.274  0.047]\n",
      " [ 0.233 -0.16   0.015 -0.333 -0.163  0.188 -0.323  0.237]\n",
      " [ 0.39  -0.485  0.42  -0.217 -0.267  0.248 -0.255  0.267]\n",
      " [-0.226  0.14   0.313 -0.197  0.176  0.216 -0.421  0.146]\n",
      " [ 0.113 -0.089  0.015  0.037 -0.009 -0.314  0.392  0.165]]\n"
     ]
    }
   ],
   "source": [
    "# We create a matrix of the same size as M\n",
    "P = np.ones(M.shape)\n",
    "# Loop\n",
    "for i in range(M.shape[0]): # for every row\n",
    "    for j in range(M.shape[1]): # for every column\n",
    "        P[i,j] = M[i,j] * np.cos(N[i,j])\n",
    "print(P)"
   ]
  },
  {
   "cell_type": "markdown",
   "metadata": {},
   "source": [
    "To vectorise this code we only need to use our knowledge of elementwise operations and use the `np.cos` function for the cosine (the sine is implemented in `np.sin`):"
   ]
  },
  {
   "cell_type": "code",
   "execution_count": 30,
   "metadata": {},
   "outputs": [
    {
     "name": "stdout",
     "output_type": "stream",
     "text": [
      "[[ 0.092  0.206 -0.058 -0.368  0.088  0.32  -0.02   0.268]\n",
      " [ 0.447 -0.02  -0.391 -0.145 -0.1   -0.008  0.365  0.458]\n",
      " [-0.366  0.225  0.285  0.14  -0.231  0.296  0.383 -0.31 ]\n",
      " [ 0.24   0.261 -0.007 -0.284 -0.437  0.419 -0.274  0.047]\n",
      " [ 0.233 -0.16   0.015 -0.333 -0.163  0.188 -0.323  0.237]\n",
      " [ 0.39  -0.485  0.42  -0.217 -0.267  0.248 -0.255  0.267]\n",
      " [-0.226  0.14   0.313 -0.197  0.176  0.216 -0.421  0.146]\n",
      " [ 0.113 -0.089  0.015  0.037 -0.009 -0.314  0.392  0.165]]\n"
     ]
    }
   ],
   "source": [
    "# We create a matrix of the same size as M\n",
    "P = M * np.cos(N)\n",
    "print(P)"
   ]
  },
  {
   "cell_type": "markdown",
   "metadata": {},
   "source": [
    "## Task 1.1: Working with NumPy array slices\n",
    "Starting with a row vector $\\mathbf{v1}$: $$v1 =\\begin{bmatrix}1 & -1 & 2 & -2 & 3 & -3\\end{bmatrix}$$\n",
    "\n",
    "1. Extract the 3rd, 4th, and 5th elements (columns) of the vector into another vector $\\mathbf{v2}$.\n",
    "2. Replace the 6th element in $\\mathbf{v1}$ with the value -4.\n",
    "3. Replace the first 3 elements in $\\mathbf{v1}$ with the numbers $1$, $2$ and $3$.\n",
    "4. Set all positive numbers in $\\mathbf{v1}$ to $0$.\n",
    "5. Double all negative values in $\\mathbf{v1}$."
   ]
  },
  {
   "cell_type": "code",
   "execution_count": 36,
   "metadata": {},
   "outputs": [
    {
     "name": "stdout",
     "output_type": "stream",
     "text": [
      "v1\n",
      "[ 1 -1  2 -2  3 -3]\n",
      "\n",
      "v2\n",
      "[ 2 -2  3]\n",
      "\n",
      "v1:\n",
      "[ 1 -1  2 -2  3 -4]\n",
      "\n",
      "v1:\n",
      "[ 1  2  3 -2  3 -4]\n",
      "\n",
      "v1:\n",
      "[ 0  0  0 -2  0 -4]\n",
      "\n",
      "v1:\n",
      "[ 0  0  0 -4  0 -8]\n",
      "\n"
     ]
    }
   ],
   "source": [
    "# WRITE YOUR CODE BELOW (DO NOT DELETE THIS LINE)\n",
    "# WRITE YOUR CODE ABOVE (DO NOT DELETE THIS LINE)\n",
    "\n",
    "v1 = np.array([1, -1, 2, -2, 3, -3])\n",
    "print(f'v1\\n{v1}\\n')\n",
    "v2 = v1[2:5]\n",
    "print(f'v2\\n{v2}\\n')\n",
    "\n",
    "v1[5] = -4\n",
    "print(f'v1:\\n{v1}\\n')\n",
    "\n",
    "v1[:3] = [1, 2, 3]\n",
    "print(f'v1:\\n{v1}\\n')\n",
    "\n",
    "v1[v1>0] = 0\n",
    "print(f'v1:\\n{v1}\\n')\n",
    "\n",
    "v1[v1<0] = v1[v1<0] * 2\n",
    "print(f'v1:\\n{v1}\\n')\n"
   ]
  },
  {
   "cell_type": "markdown",
   "metadata": {},
   "source": [
    "## Task 1.2 Vectorise the following loop-based code\n",
    "\n",
    "### Task 1.2.1\n",
    "The following loop iterates over the elements of $v$ and reverses the sign of negative elements."
   ]
  },
  {
   "cell_type": "code",
   "execution_count": null,
   "metadata": {},
   "outputs": [],
   "source": [
    "# We make the code work on a copy of the v to avoid overwriting it\n",
    "w = np.array(v)\n",
    "for i in range(w.shape[0]):\n",
    "    for j in range(w.shape[1]):\n",
    "        if w[i,j] < 0:\n",
    "            w[i,j] = -w[i,j]\n",
    "print(w)\n"
   ]
  },
  {
   "cell_type": "code",
   "execution_count": 37,
   "metadata": {},
   "outputs": [
    {
     "name": "stdout",
     "output_type": "stream",
     "text": [
      "[[0.347 0.244 0.188 0.023 0.463 0.339 0.126 0.234]]\n"
     ]
    }
   ],
   "source": [
    "# WRITE YOUR CODE BELOW (DO NOT DELETE THIS LINE)\n",
    "v[v < 0] = -v[v < 0]\n",
    "print(v)\n",
    "# WRITE YOUR CODE ABOVE (DO NOT DELETE THIS LINE)"
   ]
  },
  {
   "cell_type": "markdown",
   "metadata": {},
   "source": [
    "### Task 1.2.2\n",
    "This loop does a slightly more complex calculation, using multiplication and sine."
   ]
  },
  {
   "cell_type": "code",
   "execution_count": null,
   "metadata": {},
   "outputs": [],
   "source": [
    "# We make the code work on a copy of the v to avoid overwriting it\n",
    "w = np.array(v)\n",
    "for i in range(w.shape[0]):\n",
    "    for j in range(w.shape[1]):\n",
    "        w[i,j] = 5. * w[i,j] * w[i,j] + np.sin(w[i,j])\n",
    "print(w)"
   ]
  },
  {
   "cell_type": "code",
   "execution_count": null,
   "metadata": {},
   "outputs": [],
   "source": [
    "# WRITE YOUR CODE BELOW (DO NOT DELETE THIS LINE)\n",
    "v = 5. * v * v + np.sin(v)\n",
    "print(v)\n",
    "# WRITE YOUR CODE ABOVE (DO NOT DELETE THIS LINE)"
   ]
  },
  {
   "cell_type": "markdown",
   "metadata": {},
   "source": [
    "## Task  1.2.3\n",
    "The following loop requires operating with boolean masks. Make sure you use `np.logical_or` when writing your answer."
   ]
  },
  {
   "cell_type": "code",
   "execution_count": null,
   "metadata": {},
   "outputs": [],
   "source": [
    "# We make the code work on a copy of the v to avoid overwriting it\n",
    "M2 = np.array(M)\n",
    "for i in range(M2.shape[0]):\n",
    "    for j in range(M2.shape[1]):\n",
    "        if M2[i,j] < -0.25 or M2[i,j] > 0.25:\n",
    "            M2[i,j] = M2[i,j]/2\n",
    "print(M2)"
   ]
  },
  {
   "cell_type": "code",
   "execution_count": null,
   "metadata": {},
   "outputs": [],
   "source": [
    "# WRITE YOUR CODE BELOW (DO NOT DELETE THIS LINE)\n",
    "bmask1 = M < -0.25\n",
    "bmask2 = M >  0.25\n",
    "final_bmask = np.logical_or(bmask1, bmask2)\n",
    "M[final_bmask] = M[final_bmask] / 2\n",
    "\n",
    "# Compact solution\n",
    "M[np.logical_or(M < -0.25, M > 0.25)] /= 2\n",
    "# WRITE YOUR CODE ABOVE (DO NOT DELETE THIS LINE)"
   ]
  },
  {
   "cell_type": "markdown",
   "metadata": {},
   "source": [
    "## Task 1.2.4\n",
    "Last one. Make sure you respect the operator precedence. Operator precedence in Python is similar to that of C++ or Java: [you can check the documentation](https://docs.python.org/3/reference/expressions.html#operator-precedence)."
   ]
  },
  {
   "cell_type": "code",
   "execution_count": null,
   "metadata": {},
   "outputs": [],
   "source": [
    "# We make the code work on a copy of the v to avoid overwriting it\n",
    "M2 = np.array(M)\n",
    "P = np.zeros(M2.shape)\n",
    "\n",
    "for i in range(M2.shape[0]):\n",
    "    for j in range(M2.shape[1]):\n",
    "        P[i,j] = M[i,j]+N[i,j]+1\n",
    "        P[i,j] = P[i,j]**2\n",
    "print(P)"
   ]
  },
  {
   "cell_type": "code",
   "execution_count": null,
   "metadata": {},
   "outputs": [],
   "source": [
    "# WRITE YOUR CODE BELOW (DO NOT DELETE THIS LINE)\n",
    "M2 = np.array(M)\n",
    "P = np.zeros(M2.shape)\n",
    "\n",
    "P = (M+N+1)**2\n",
    "print(P)\n",
    "# WRITE YOUR CODE ABOVE (DO NOT DELETE THIS LINE)"
   ]
  }
 ],
 "metadata": {
  "kernelspec": {
   "display_name": "Python 3",
   "language": "python",
   "name": "python3"
  },
  "language_info": {
   "codemirror_mode": {
    "name": "ipython",
    "version": 3
   },
   "file_extension": ".py",
   "mimetype": "text/x-python",
   "name": "python",
   "nbconvert_exporter": "python",
   "pygments_lexer": "ipython3",
   "version": "3.12.10"
  }
 },
 "nbformat": 4,
 "nbformat_minor": 4
}
