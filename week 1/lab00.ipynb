{
 "cells": [
  {
   "cell_type": "markdown",
   "metadata": {},
   "source": [
    "# <center>Aston University <br/><br/> CS3IVP: Digital Image and Video Processing <br/><br/> Lab 00: Getting started with Python 3 and Jupyter</center>\n",
    "\n",
    "Academic year: 2024-2025 <br/>\n",
    "Lecturer: Dr. Debaleena Roy <a href=\"mailto:d.roy@aston.ac.uk\">d.roy@aston.ac.uk</a> Dr Martin Adams <a href=\"mailto:m.adams1@aston.ac.uk\">m.adams1@aston.ac.uk</a> <br/>\n",
    "Office: MB265K, MB214A <br/>\n",
    "\n",
    "## Goals\n",
    "By the end of this session, you should know:\n",
    "1. how to use Jupyter's interface,\n",
    "2. the basics of Python 3\n",
    " 1. the basic types (integers, floats, booleans, strings)\n",
    " 2. how to perform simple arithmetic calculations in Python 3,\n",
    " 3. `for` and `while` loops\n",
    " 4. the `range` generator\n",
    " 5. lists, sets, dictionaries and tuples\n",
    " 6. list comprehensions\n",
    "3. how matrices can be represented in Python\n",
    "4. how to create matrices using NumPy arrays\n",
    "5. how to access matrices and their properties\n",
    "\n",
    "You can get extra help by looking at the official documentation of the software we'll use:\n",
    "- [Jupyter - https://jupyter.org/documentation](https://jupyter.org/documentation)\n",
    "- [Python 3 - https://docs.python.org/3/tutorial/](https://docs.python.org/3/tutorial/)\n",
    "- [NumPy - https://numpy.org/doc/](https://numpy.org/doc/)\n",
    "\n",
    "\n",
    "## The Jupyter interface\n",
    "**Jupyter** is a web application that allows us to code using **notebooks** in different programming languages (i.e., Julia, Python and R). In CS3330 we will only be using **Python3** notebooks. From now on, please understand that I am referring to Python 3 when I just say Python.\n",
    "\n",
    "Notebooks are divided into cells, and there are two main cell types: **Code** (Python in our case) and **Markdown** (for text, just as in this cell). This allows us to nicely combine text and code in the same document. You don't have to worry about text cells, you will only need to work with code cells. \n",
    "\n",
    "Notebooks are **not appropriate** for big projects because they make working with multiple files more complicated, but they are great to learn and try new things. It is much easier than it sounds! \n",
    "\n",
    "I have written Python code in the code cell below. If you click on it you will see a square around it. Selected cells can be in two modes <span style=\"color:#00aa00; font-family: monospace;\">edit mode</span> (green) and <span style=\"color:#0000dd; font-family: monospace;\">command mode</span> (blue). You can switch from command mode (blue) to edit mode (green) by pressing `Enter`. You can switch from edit mode (green) to command mode (blue) by pressing `Escape` or clicking in the margings. Whenever you change the mode, you will see that the colour is updated. \n",
    "\n",
    "**Try to select the next cell and switch between modes.**\n",
    "\n",
    "A nice thing of command mode is that you can navigate between cells using the keyboard cursors.\n",
    "\n",
    "**Please try using the cursor keys to move around the cells while in command mode.**"
   ]
  },
  {
   "cell_type": "code",
   "execution_count": 1,
   "metadata": {},
   "outputs": [
    {
     "name": "stdout",
     "output_type": "stream",
     "text": [
      "Variable x is: 1\n"
     ]
    }
   ],
   "source": [
    "x = 1\n",
    "print(f'Variable x is: {x}')"
   ]
  },
  {
   "cell_type": "markdown",
   "metadata": {},
   "source": [
    "Once a cell has been selected you can run the code by pressing `Ctrl+Enter`. If you press `Shift+Enter` instead, the selected cell will be run **and** the next cell will be automatically selected. The first option is useful to run the same cell multiple times, while the second is better to run the code as you read.\n",
    "\n",
    "**Please try both options with the code cell above.**"
   ]
  },
  {
   "cell_type": "markdown",
   "metadata": {},
   "source": [
    "The previous code cell calls the `print` function using what we call **f-strings**. Python f-strings allow formatting strings using *variable interpolation*. They allow you to combine text and variables inserted between curly brackets. For a string to be considered an f-string by the Python interpreter it has to be preppended by the character `f`. Remember that you can only interpolate variables in f-strings.\n",
    "\n",
    "In Python, you can use both `\"` and `'` characters to delimit strings. If you want to use a `'` or `\"` character within a string delimited using that very character, you will need to *escape* it (see the following example, **it will be useful**).\n",
    "\n",
    "We can also **get user text input** within a Python Jupyter notebook using the `input` function, such as in the following code cell.\n",
    "\n",
    "**Please, run the code cell below and enter your name when asked (press `Enter`).**"
   ]
  },
  {
   "cell_type": "code",
   "execution_count": 2,
   "metadata": {},
   "outputs": [
    {
     "name": "stdout",
     "output_type": "stream",
     "text": [
      "Hello aqsa. It's great to have you in CS3330!\n"
     ]
    }
   ],
   "source": [
    "name = input('Please enter name: ')\n",
    "print(f'Hello {name}. It\\'s great to have you in CS3330!')"
   ]
  },
  {
   "cell_type": "markdown",
   "metadata": {},
   "source": [
    "Let's take a closer look at what happens when we re-run the previous cell. Re-run the previous cell, but wait before entering your name. You will see an asterisk (`*`).\n",
    "\n",
    "That means that the cell is running, which in turn means that the kernel (the Python interpreter in our case) is active. This can be because it is performing some computation or because it is doing I/O. Each notebook has a single kernel/interpreter that is shared by all cells (including the variable namespace). That is why in the next cell we can still access the variable defined in the previous code cell."
   ]
  },
  {
   "cell_type": "code",
   "execution_count": 3,
   "metadata": {},
   "outputs": [
    {
     "name": "stdout",
     "output_type": "stream",
     "text": [
      "Python is an extremely useful language to learn, aqsa.\n"
     ]
    }
   ],
   "source": [
    "print(f'Python is an extremely useful language to learn, {name}.')"
   ]
  },
  {
   "cell_type": "markdown",
   "metadata": {},
   "source": [
    "Sometimes, we will make mistakes and we will want to stop what we are doing. This will happen, for instance, when we get into infinite loops.\n",
    "\n",
    "You can interrupt the current cell by going into command mode (pressing `Escape` or clicking in the margins of the notebook) **and** pressing `i` twice. You can instead restart the whole interpreter by pressing `0` twice. If you interrupt the current cell the variables in the namespace will remain. If you restart the kernel all of them will be deleted (the output of the code cells will remain).\n",
    "\n",
    "**Run the code cell below and interrupt its execution while in command mode (pressing `i` twice) before the counter gets to 100.**"
   ]
  },
  {
   "cell_type": "code",
   "execution_count": 4,
   "metadata": {
    "scrolled": true
   },
   "outputs": [
    {
     "name": "stdout",
     "output_type": "stream",
     "text": [
      "0\n",
      "1\n",
      "2\n",
      "3\n",
      "4\n",
      "5\n",
      "6\n",
      "7\n",
      "8\n",
      "9\n",
      "10\n",
      "11\n",
      "12\n",
      "13\n",
      "14\n",
      "15\n",
      "16\n",
      "17\n",
      "18\n",
      "19\n",
      "20\n",
      "21\n",
      "22\n",
      "23\n",
      "24\n",
      "25\n",
      "26\n",
      "27\n",
      "28\n",
      "29\n",
      "30\n",
      "31\n",
      "32\n",
      "33\n",
      "34\n",
      "35\n",
      "36\n",
      "37\n",
      "38\n",
      "39\n",
      "40\n",
      "41\n",
      "42\n",
      "43\n",
      "44\n",
      "45\n",
      "46\n",
      "47\n",
      "48\n",
      "49\n",
      "50\n",
      "51\n",
      "52\n",
      "53\n",
      "54\n",
      "55\n",
      "56\n",
      "57\n",
      "58\n",
      "59\n",
      "60\n",
      "61\n",
      "62\n",
      "63\n",
      "64\n",
      "65\n",
      "66\n",
      "67\n",
      "68\n",
      "69\n",
      "70\n",
      "71\n",
      "72\n",
      "73\n",
      "74\n",
      "75\n",
      "76\n",
      "77\n",
      "78\n",
      "79\n",
      "80\n",
      "81\n",
      "82\n",
      "83\n",
      "84\n",
      "85\n",
      "86\n",
      "87\n",
      "88\n",
      "89\n",
      "90\n",
      "91\n",
      "92\n",
      "93\n",
      "94\n",
      "95\n",
      "96\n",
      "97\n",
      "98\n",
      "99\n",
      "Game over\n"
     ]
    }
   ],
   "source": [
    "import time\n",
    "\n",
    "counter = 0\n",
    "\n",
    "while counter < 100:\n",
    "    print(counter)\n",
    "    counter += 1\n",
    "    time.sleep(0.1)\n",
    "\n",
    "print('Game over')"
   ]
  },
  {
   "cell_type": "markdown",
   "metadata": {},
   "source": [
    "As you can see in line *1* of the previous cell code, we can import Python modules using the `import` statement. In this case, we imported the `time` module to be able to make pauses (using its function `sleep`). We will talk about loops later.\n",
    "\n",
    "Do you want to see the line numbers? You can enable/disable line numbers pressing `Shift+L` in command mode.\n",
    "**Try doing this.**\n",
    "\n",
    "The previous code cell probably generated a lot of output text and maked scrolling through the notebook a bit hard. You can also **collapse** the output by double-clicking on its left margin (you will see it is highlighted when you hover over the margin).\n",
    "\n",
    "We mentioned the asterisk, but we didn't talk about what the numbers on the left of the cells mean. They indicate the **order** in which the cells were run. You can run cells in any order, not necessarily sequentially from the first to the last one. The fact that we can play with the order in which cells are executed does not mean that it is generally a good idea: *notebooks should make sense when read sequentially, like a report or a story*. Only execute out of order **temporarily** when testing new code, <span style=\"color:red\">**never for the assessed labs**</span>."
   ]
  },
  {
   "cell_type": "markdown",
   "metadata": {},
   "source": [
    "This should be enough for you to use Jupyter's interface. The rest of the operations are intuitive and you should be able to discover how to use them on your own, but **please, ask for help if you need it!** This is exactly what we are going to do in Task 1.\n",
    "\n",
    "## Task 0.1: Working with notebooks and cells\n",
    "- 1.1 Rename the notebook by appending your name to it. You will see that the file name in the file system is updated accordingly.\n",
    "- 1.2 Save the notebook with a different name. This will allow you to ceate a copy of the notebook and keep working on the copy.\n",
    "- 1.3 Make a copy of your current notebook. This will allow you to create a copy of the notebook and keep working on the original.\n",
    "- 1.4 Insert new cells, above and below the current cell. Try doing it using the `a` and `b` keys in \"command mode\". You will see it is much faster than using the menu and the mouse!\n",
    "- 1.5 Create a new Python notebook.\n",
    "- 1.6 Download the new notebook to your computer (this is especially important if you are using VDI).\n",
    "- 1.7 Copy and paste cells.\n",
    "- 1.8 Move cells up and down."
   ]
  },
  {
   "cell_type": "code",
   "execution_count": 5,
   "metadata": {},
   "outputs": [],
   "source": [
    "# Use these cells to play with Jupyter's interface.\n",
    "# As you can see, we use `#` to insert comments."
   ]
  },
  {
   "cell_type": "code",
   "execution_count": 6,
   "metadata": {},
   "outputs": [],
   "source": [
    "# Use these cells to play with Jupyter's interface.\n",
    "# As you can see, we use `#` to insert comments."
   ]
  },
  {
   "cell_type": "code",
   "execution_count": 7,
   "metadata": {},
   "outputs": [],
   "source": [
    "# Use these cells to play with Jupyter's interface.\n",
    "# As you can see, we use `#` to insert comments."
   ]
  },
  {
   "cell_type": "markdown",
   "metadata": {},
   "source": [
    "# The basics of Python\n",
    "\n",
    "As C++ or Java, Python has booleans, integers, floats, strings and other basic types. In Python, all of these are classes instead of primitive data types.\n",
    "\n",
    "In the following cell, we create a few variables. Creating the variables does not mean that they will be printed!"
   ]
  },
  {
   "cell_type": "code",
   "execution_count": 8,
   "metadata": {},
   "outputs": [],
   "source": [
    "a_string = 'this is a string'\n",
    "integer_number = 42\n",
    "float_number = 0.402"
   ]
  },
  {
   "cell_type": "markdown",
   "metadata": {},
   "source": [
    "We can print the type of a variable using the function `type`. As you can see, Python integers are instances of the class `int` (to run the cell below you need to run the cell above first):"
   ]
  },
  {
   "cell_type": "code",
   "execution_count": 9,
   "metadata": {},
   "outputs": [
    {
     "name": "stdout",
     "output_type": "stream",
     "text": [
      "<class 'int'>\n"
     ]
    }
   ],
   "source": [
    "print(type(integer_number))"
   ]
  },
  {
   "cell_type": "markdown",
   "metadata": {},
   "source": [
    "`if` statements are similar to Java and C++, with a couple differences:\n",
    "- We don't use parentheses in Python. Instead, we use a colon symbil to state where the condition ends.\n",
    "- We use `elif` instead of `else if`.\n",
    "- **Correct indentation is mandatory.** Yes, literally mandatory. If you don't indent your code properly it will not work. This might seem inconvenient at first, but it will __convince you__ into writing better code. ;-)\n",
    "\n",
    "You can indent with tabulation characters (i.e.m '\\t') or any number of spaces. However, it is common practice to use four spaces. When you press the `Tab` key in Jupyter, four spaces will be inserted."
   ]
  },
  {
   "cell_type": "code",
   "execution_count": 10,
   "metadata": {},
   "outputs": [
    {
     "name": "stdout",
     "output_type": "stream",
     "text": [
      "Hello nameee, I hope you learn a lot in CS3330!\n"
     ]
    }
   ],
   "source": [
    "name = input('Please tell me your name (again?): ')\n",
    "\n",
    "if name == '':\n",
    "    print(f'Hello. You seem shy. I hope you learn a lot in CS3330!')\n",
    "elif name != 'Luis':\n",
    "    print(f'Hello {name}, I hope you learn a lot in CS3330!')\n",
    "else:\n",
    "    print(f'Oh, you again.')"
   ]
  },
  {
   "cell_type": "markdown",
   "metadata": {},
   "source": [
    "We have a few keywords for constants in Python. The most important are `True` (equivalent to `true` in Java/C++), `False` (equivalent to `false`) and `None` (equivalent to `Null`/`null`). \n",
    "\n",
    "The conditionals in `while` loops, are specified exactly as in `if` statements, without parentheses and with a colon at the end. You can use parentheses if you want to, but they are not necessary.\n",
    "\n",
    "\n",
    "## Task 0.2: Fix the error\n",
    "To check if two references point to the same object you can use the `is` keyword. That is useful when comparing to literals such as `None`.\n",
    "\n",
    "**The example in the code cell below is not working. Can you fix it?**"
   ]
  },
  {
   "cell_type": "code",
   "execution_count": 11,
   "metadata": {},
   "outputs": [],
   "source": [
    "word = None\n",
    "while word is None or word == '':\n",
    "    word = input('It\\'d be great if you type something: ')"
   ]
  },
  {
   "cell_type": "markdown",
   "metadata": {},
   "source": [
    "In Python we only have one type of `for` loop, the **for-each** kind of loop that you would use in C++ or Java. It iterates over the elements in a collection or generator. See the following example:"
   ]
  },
  {
   "cell_type": "code",
   "execution_count": 12,
   "metadata": {},
   "outputs": [
    {
     "name": "stdout",
     "output_type": "stream",
     "text": [
      "Birmingham is a city.\n",
      "Coventry is a city.\n",
      "Wolverhampton is a city.\n"
     ]
    }
   ],
   "source": [
    "# This is a Python list. Don't worry to much about lists for now. We will cover them in a minute.\n",
    "cities = ['Birmingham', 'Coventry', 'Wolverhampton']\n",
    "\n",
    "# The `for` syntax is straightforward\n",
    "for city in cities:\n",
    "    print(f'{city} is a city.')"
   ]
  },
  {
   "cell_type": "markdown",
   "metadata": {},
   "source": [
    "As you can see, we use the `for` statement specifying a variable name which will be assigned to each of the elements in the collection or generator and we can use the variable within the loop. Remember that loops have to be adequately indented.\n",
    "\n",
    "Generators are functions that `yield` values that we can iterate over without the need to generate all of them at any point. The most common example is the `range` generator, which allows us to iterate over a sequence of numbers with an arbitrary step:"
   ]
  },
  {
   "cell_type": "code",
   "execution_count": 13,
   "metadata": {},
   "outputs": [
    {
     "name": "stdout",
     "output_type": "stream",
     "text": [
      "Odd numbers from 1 to 10\n",
      "1\n",
      "3\n",
      "5\n",
      "7\n",
      "9\n"
     ]
    }
   ],
   "source": [
    "start = 1 # The start number is included (integer, defaults to 0)\n",
    "stop = 10 # The stop number is *not* included (integer, required)\n",
    "step = 2  # How many units we increase in each iteration (integer, defaults to 1)\n",
    "\n",
    "print('Odd numbers from 1 to 10')\n",
    "for number in range(start, stop+1, step):\n",
    "    print(number)"
   ]
  },
  {
   "cell_type": "markdown",
   "metadata": {},
   "source": [
    "When using `range` you don't need to use variables. The following code is equivalent:"
   ]
  },
  {
   "cell_type": "code",
   "execution_count": 14,
   "metadata": {},
   "outputs": [
    {
     "name": "stdout",
     "output_type": "stream",
     "text": [
      "Odd numbers from 1 to 10\n",
      "1\n",
      "3\n",
      "5\n",
      "7\n",
      "9\n"
     ]
    }
   ],
   "source": [
    "print('Odd numbers from 1 to 10')\n",
    "for number in range(1, 10, 2):\n",
    "    print(number)"
   ]
  },
  {
   "cell_type": "markdown",
   "metadata": {},
   "source": [
    "# Python collections\n",
    "\n",
    "Python has a number of collections. The basic ones are: lists (`list`), dictionaries (`dict`), sets (`set`) and tuples (`tuple`). All collections can contain different kinds of objects and can be hetereogeneous and nested:"
   ]
  },
  {
   "cell_type": "code",
   "execution_count": 15,
   "metadata": {},
   "outputs": [
    {
     "name": "stdout",
     "output_type": "stream",
     "text": [
      "3330\n",
      "[['is']]\n",
      "number\n",
      "1.0\n"
     ]
    }
   ],
   "source": [
    "heterogeneous_list = [3330, [['is']], 'number', 1.0]\n",
    "\n",
    "for element in heterogeneous_list:\n",
    "    print(element)"
   ]
  },
  {
   "cell_type": "markdown",
   "metadata": {},
   "source": [
    "### Lists\n",
    "There are many ways to create lists, but we are only going to see three of them for now:\n",
    "- You can create an empty list by using the list constructor e.g., `my_list = list()`.\n",
    "- You can create a populated list specifying the contents in square brackets e.g., `my_list`. As in the previous code cell.\n",
    "- Using \"list comprehensions\", using the following syntax: `[expression for item in iterable if condition]`. \n"
   ]
  },
  {
   "cell_type": "code",
   "execution_count": 16,
   "metadata": {},
   "outputs": [
    {
     "name": "stdout",
     "output_type": "stream",
     "text": [
      "empty: [].\n",
      "\n",
      "Second option: ['a', 'b', 'c'].\n",
      "\n",
      "List comprehension 1: [1, 2, 3, 4, 5, 6, 7, 8, 9, 10, 11, 12, 13, 14, 15, 16, 17, 18, 19, 20, 21, 22, 23, 24, 25, 26, 27, 28, 29, 30, 31, 32, 33, 34, 35, 36, 37, 38, 39, 40, 41, 42, 43, 44, 45, 46, 47, 48, 49, 50, 51, 52, 53, 54, 55, 56, 57, 58, 59, 60, 61, 62, 63, 64, 65, 66, 67, 68, 69, 70, 71, 72, 73, 74, 75, 76, 77, 78, 79, 80, 81, 82, 83, 84, 85, 86, 87, 88, 89, 90, 91, 92, 93, 94, 95, 96, 97, 98, 99].\n",
      "\n",
      "List comprehension 2: [1, 3, 5, 7, 9, 11, 13, 15, 17, 19, 21, 23, 25, 27, 29, 31, 33, 35, 37, 39, 41, 43, 45, 47, 49, 51, 53, 55, 57, 59, 61, 63, 65, 67, 69, 71, 73, 75, 77, 79, 81, 83, 85, 87, 89, 91, 93, 95, 97, 99].\n",
      "\n",
      "List comprehension 3: [1, 9, 25, 49, 81, 121, 169, 225, 289, 361, 441, 529, 625, 729, 841, 961, 1089, 1225, 1369, 1521, 1681, 1849, 2025, 2209, 2401, 2601, 2809, 3025, 3249, 3481, 3721, 3969, 4225, 4489, 4761, 5041, 5329, 5625, 5929, 6241, 6561, 6889, 7225, 7569, 7921, 8281, 8649, 9025, 9409, 9801].\n",
      "\n"
     ]
    }
   ],
   "source": [
    "#\n",
    "# First option\n",
    "#\n",
    "empty = list()\n",
    "print(f'empty: {empty}.\\n')\n",
    "\n",
    "#\n",
    "# Second option\n",
    "#\n",
    "a_list = ['a', 'b', 'c']\n",
    "print(f'Second option: {a_list}.\\n')\n",
    "\n",
    "#\n",
    "# Third option: list comprehension\n",
    "#\n",
    "# Simplest, all items generated:\n",
    "comprehension_0 = [ x for x in range(1, 100) ]\n",
    "print(f'List comprehension 1: {comprehension_0}.\\n')\n",
    "# Only some of the items:\n",
    "comprehension_1 = [ x for x in range(1, 100) if x%2==1 ]\n",
    "print(f'List comprehension 2: {comprehension_1}.\\n')\n",
    "# We filter the items and build the list with an expression using them:\n",
    "comprehension_2 = [ x*x for x in range(1, 100) if x%2==1 ]\n",
    "print(f'List comprehension 3: {comprehension_2}.\\n')"
   ]
  },
  {
   "cell_type": "markdown",
   "metadata": {},
   "source": [
    "Elements can be appended and removed using the methods `append` and `pop`, respectively. The method `pop` can optionally receive the index of the element to remove (zero by default) and returns the element removed."
   ]
  },
  {
   "cell_type": "code",
   "execution_count": 17,
   "metadata": {},
   "outputs": [
    {
     "name": "stdout",
     "output_type": "stream",
     "text": [
      "We add one more item version: ['a', 'b', 'c', 'd'].\n",
      "After popping element with index 1 (b) from the list: ['a', 'c', 'd'].\n",
      "The length of a list can be obtained using the function \"len\": len(a_list) is 3\n"
     ]
    }
   ],
   "source": [
    "a_list = ['a', 'b', 'c']\n",
    "a_list.append('d')\n",
    "print(f'We add one more item version: {a_list}.')\n",
    "\n",
    "get_index = 1\n",
    "got = a_list.pop(get_index)\n",
    "print(f'After popping element with index {get_index} ({got}) from the list: {a_list}.')\n",
    "\n",
    "print(f'The length of a list can be obtained using the function \"len\": len(a_list) is {len(a_list)}')"
   ]
  },
  {
   "cell_type": "markdown",
   "metadata": {},
   "source": [
    "### Sets\n",
    "We will not delve into how sets work as they are not really necessary for the module. However, we are going to cover them briefly. Sets can be created inline, from a list or starting from an empty set:"
   ]
  },
  {
   "cell_type": "code",
   "execution_count": 18,
   "metadata": {},
   "outputs": [
    {
     "name": "stdout",
     "output_type": "stream",
     "text": [
      "set_0: {2, 'brackets', 'defined', 'with', 'curly'}\n",
      "set_1: set()\n",
      "set_2: {'d', 'a', 'c'}\n",
      "set_3: {2, 3, 'a', 5, 7, 9, 11}\n"
     ]
    }
   ],
   "source": [
    "# Set defined inline\n",
    "set_0 = { 'defined', 'with', \"curly\", 'brackets', 2}\n",
    "print(f'set_0: {set_0}')\n",
    "\n",
    "# Empty set\n",
    "set_1 = set()\n",
    "print(f'set_1: {set_1}')\n",
    "\n",
    "# Set from a list\n",
    "set_2 = set(a_list)\n",
    "print(f'set_2: {set_2}')\n",
    "\n",
    "# Another inline defined set\n",
    "set_3 = {'a','a', 2, 3, 5, 7, 9, 11}\n",
    "print(f'set_3: {set_3}')"
   ]
  },
  {
   "cell_type": "markdown",
   "metadata": {},
   "source": [
    "Bear in mind that sets do not necessarily respect any particular order. The operations that we can do over sets are similar to those in other programming languages."
   ]
  },
  {
   "cell_type": "code",
   "execution_count": 19,
   "metadata": {},
   "outputs": [
    {
     "name": "stdout",
     "output_type": "stream",
     "text": [
      "{2, 'd', 'a', 3, 5, 7, 9, 11, 'c'}\n",
      "{'a'}\n",
      "{'d', 'c'}\n",
      "{2, 3, 5, 7, 9, 11, 'd', 'c'}\n"
     ]
    }
   ],
   "source": [
    "# Items in `set_1` or `set_2`\n",
    "print(set_2 | set_3)\n",
    "\n",
    "# Items in both sets\n",
    "print(set_2 & set_3)\n",
    "\n",
    "# Items in set `set_1` that are not in `set_2`.\n",
    "print(set_2 - set_3)\n",
    "\n",
    "# Items which as exclusively in one of the sets\n",
    "print(set_2 ^ set_3)"
   ]
  },
  {
   "cell_type": "markdown",
   "metadata": {},
   "source": [
    "Checking if an element is within a set:"
   ]
  },
  {
   "cell_type": "code",
   "execution_count": 20,
   "metadata": {},
   "outputs": [
    {
     "name": "stdout",
     "output_type": "stream",
     "text": [
      "set_2 {'d', 'a', 'c'}\n",
      "\"d\" was found in the set\n"
     ]
    }
   ],
   "source": [
    "print(f'set_2 {set_2}')\n",
    "\n",
    "if 'd' in set_2:\n",
    "    print('\"d\" was found in the set')\n",
    "else:\n",
    "    print('\"d\" was not found in the set')"
   ]
  },
  {
   "cell_type": "markdown",
   "metadata": {},
   "source": [
    "### Dictionaries\n",
    "Dictionaries are similar to Java hash maps. However, Python dictionaries' keys and items are heterogeneous. We can create dictionaries in different ways:"
   ]
  },
  {
   "cell_type": "code",
   "execution_count": 21,
   "metadata": {},
   "outputs": [
    {
     "name": "stdout",
     "output_type": "stream",
     "text": [
      "{'zero': 0, 'one': 1, 'two': 2, 'three': 3}\n",
      "{'zero': 0, 'one': 1, 'two': 2, 'three': 3}\n",
      "{}\n"
     ]
    }
   ],
   "source": [
    "# Note that we separate entries by using commas, and key-items with colons.\n",
    "dict_0 = {'zero': 0, 'one': 1, 'two': 2, 'three': 3}\n",
    "\n",
    "# A list of tuples also work (we see tuples next)\n",
    "dict_1 = dict([('zero', 0), ('one', 1), ('two', 2), ('three', 3)])\n",
    "\n",
    "# Empty dictionary\n",
    "dict_2 = dict()\n",
    "\n",
    "print(dict_0)\n",
    "print(dict_1)\n",
    "print(dict_2)"
   ]
  },
  {
   "cell_type": "markdown",
   "metadata": {},
   "source": [
    "We can also add and remove elements after the set has been created:"
   ]
  },
  {
   "cell_type": "code",
   "execution_count": 22,
   "metadata": {},
   "outputs": [
    {
     "name": "stdout",
     "output_type": "stream",
     "text": [
      "{'one': 1, 'two': 2, 'three': 3, 'four': 4}\n"
     ]
    }
   ],
   "source": [
    "dict_1['four'] = 4\n",
    "del dict_1['zero']\n",
    "\n",
    "print(dict_1)"
   ]
  },
  {
   "cell_type": "markdown",
   "metadata": {},
   "source": [
    "In dictionaries, the `in` operator applies to **keys**."
   ]
  },
  {
   "cell_type": "code",
   "execution_count": 23,
   "metadata": {},
   "outputs": [
    {
     "name": "stdout",
     "output_type": "stream",
     "text": [
      "True\n",
      "False\n"
     ]
    }
   ],
   "source": [
    "print('two' in dict_1)\n",
    "print(2 in dict_1)"
   ]
  },
  {
   "cell_type": "markdown",
   "metadata": {},
   "source": [
    "### Tuples\n",
    "Python tuples are quite simple, you can see them as immutable lists."
   ]
  },
  {
   "cell_type": "code",
   "execution_count": 24,
   "metadata": {},
   "outputs": [
    {
     "name": "stdout",
     "output_type": "stream",
     "text": [
      "(1, 2, 3)\n",
      "(4, 5, 6)\n"
     ]
    }
   ],
   "source": [
    "tuple_0 = (1,2,3)\n",
    "tuple_1 = tuple([4,5,6])\n",
    "\n",
    "print(tuple_0)\n",
    "print(tuple_1)"
   ]
  },
  {
   "cell_type": "markdown",
   "metadata": {},
   "source": [
    "We can add tuples and store the result in another tuple, **but not in-place**, as they are __immutable__."
   ]
  },
  {
   "cell_type": "code",
   "execution_count": 25,
   "metadata": {},
   "outputs": [
    {
     "name": "stdout",
     "output_type": "stream",
     "text": [
      "(1, 2, 3, 4, 5, 6)\n"
     ]
    }
   ],
   "source": [
    "tuple_2 = tuple_0 + tuple_1\n",
    "print(tuple_2)"
   ]
  },
  {
   "cell_type": "markdown",
   "metadata": {},
   "source": [
    "Because they are immutable, we cannot modify or add elements to an existing tuple.\n",
    "The two code cells below **should generate exceptions**:"
   ]
  },
  {
   "cell_type": "code",
   "execution_count": 26,
   "metadata": {},
   "outputs": [
    {
     "ename": "TypeError",
     "evalue": "'tuple' object does not support item assignment",
     "output_type": "error",
     "traceback": [
      "\u001b[31m---------------------------------------------------------------------------\u001b[39m",
      "\u001b[31mTypeError\u001b[39m                                 Traceback (most recent call last)",
      "\u001b[36mCell\u001b[39m\u001b[36m \u001b[39m\u001b[32mIn[26]\u001b[39m\u001b[32m, line 1\u001b[39m\n\u001b[32m----> \u001b[39m\u001b[32m1\u001b[39m \u001b[43mtuple_2\u001b[49m\u001b[43m[\u001b[49m\u001b[32;43m0\u001b[39;49m\u001b[43m]\u001b[49m = \u001b[32m2\u001b[39m\n",
      "\u001b[31mTypeError\u001b[39m: 'tuple' object does not support item assignment"
     ]
    }
   ],
   "source": [
    "tuple_2[0] = 2"
   ]
  },
  {
   "cell_type": "code",
   "execution_count": 27,
   "metadata": {},
   "outputs": [
    {
     "ename": "AttributeError",
     "evalue": "'tuple' object has no attribute 'append'",
     "output_type": "error",
     "traceback": [
      "\u001b[31m---------------------------------------------------------------------------\u001b[39m",
      "\u001b[31mAttributeError\u001b[39m                            Traceback (most recent call last)",
      "\u001b[36mCell\u001b[39m\u001b[36m \u001b[39m\u001b[32mIn[27]\u001b[39m\u001b[32m, line 2\u001b[39m\n\u001b[32m      1\u001b[39m \u001b[38;5;66;03m# The operation does not even exist :-)\u001b[39;00m\n\u001b[32m----> \u001b[39m\u001b[32m2\u001b[39m \u001b[43mtuple_2\u001b[49m\u001b[43m.\u001b[49m\u001b[43mappend\u001b[49m(\u001b[32m7\u001b[39m)\n",
      "\u001b[31mAttributeError\u001b[39m: 'tuple' object has no attribute 'append'"
     ]
    }
   ],
   "source": [
    "# The operation does not even exist :-)\n",
    "tuple_2.append(7)"
   ]
  },
  {
   "cell_type": "markdown",
   "metadata": {},
   "source": [
    "These are the most relevant Python data structures for CS3330. Sets and tuples were mentioned for completion only: we won't make much use of them.\n",
    "\n",
    "The data structures that we will use the most are **NumPy arrays**, but they are not basic Python data structures, they come with the **NumPy** library."
   ]
  },
  {
   "cell_type": "markdown",
   "metadata": {},
   "source": [
    "# NumPy arrays\n",
    "As we saw in the first lecture, from a mathematical perspective, we represent images and operate with them as **matrices**. An efficient way of working with matrices in Python is using **NumPy arrays**.\n",
    "\n",
    "## Task 0.3: Representing matrices\n",
    "The following example makes use of nested Python lists (lists within lists) to represent a matrix. Think about whether the following statements are true and why. Bear in mind that **there is more than one true statement**:\n",
    "- 3.1 The variable represents a 3x4 matrix.\n",
    "- 3.2 The variable represents a 4x3 matrix.\n",
    "- 3.3 It is meant to represent a matrix, but it is incorrect.\n",
    "- 3.4 It correctly represents a matrix, but it is inefficient.\n",
    "- 3.5 It correctly represents a matrix, but lists' API has not been designed to represent matrices.\n",
    "- 3.6 There is no problem with using nested lists to represent matrices, but it is not common practice.\n",
    "- 3.7 If it were a valid matrix, what would be the element `matrix[0][2]`? Try to answer this before running the code."
   ]
  },
  {
   "cell_type": "code",
   "execution_count": 28,
   "metadata": {},
   "outputs": [
    {
     "name": "stdout",
     "output_type": "stream",
     "text": [
      "[[1, 2, 3], [2, 3, 4], [6, 7, 8], [9, 0, 1]]\n"
     ]
    }
   ],
   "source": [
    "matrix = [\n",
    "            [1,2,3],\n",
    "            [2,3,4],\n",
    "            [6,7,8],\n",
    "            [9,0,1]\n",
    "         ]\n",
    "print(matrix)"
   ]
  },
  {
   "cell_type": "code",
   "execution_count": null,
   "metadata": {},
   "outputs": [],
   "source": [
    "print(matrix[0][2])"
   ]
  },
  {
   "cell_type": "markdown",
   "metadata": {},
   "source": [
    "### The basics of NumPy arrays\n",
    "When indexing matrices' elements (as in mathematics) we first use the **row** and then the **column**. The main list contains four elements and the nested ones contain three elements. Therefore, `matrix` can be seen as a 4x3 matrix (4 rows, 3 columns). We could potentially use it to represent a 3x4 matrix, but we would have to go against standard mathematical notation (indexing by column and then row).\n",
    "\n",
    "Python is sometimes referred to as a \"glue language\" because it is not very fast, but can be easily integrated with libraries implemented in C\\C++ underneath (which are much more efficient than the typical Python interpreter). Although nested lists can be used to represent matrices, it would be less efficient and we would lack an appropriate matrix-specific API to operate with matrices (how do we perform matrix multiplication?). For these reasons, matrices are not usually represented as nested lists.\n",
    "\n",
    "Consider that we want to add two 1x2 matrices: (0, 1), and (10, 10). See what happens if we use nested lists:"
   ]
  },
  {
   "cell_type": "code",
   "execution_count": 29,
   "metadata": {},
   "outputs": [
    {
     "name": "stdout",
     "output_type": "stream",
     "text": [
      "a contains: [0, 1].\n",
      "b contains: [10, 10].\n",
      "the addition of a and b would be: [0, 1, 10, 10].\n"
     ]
    }
   ],
   "source": [
    "a = [0, 1]\n",
    "b = [10, 10]\n",
    "print(f'a contains: {a}.')\n",
    "print(f'b contains: {b}.')\n",
    "\n",
    "addition = a + b\n",
    "print(f'the addition of a and b would be: {addition}.')\n"
   ]
  },
  {
   "cell_type": "markdown",
   "metadata": {},
   "source": [
    "As you see, the lists were appended instead of added. That is because the semantics of the `+` operator that we use with lists differs from what we would expect with matrices.\n",
    "\n",
    "Instead of using nested lists, we will use NumPy arrays, with which we will be able to operate more easily. They can be created providing a (potentially nested) list like the ones used earlier, but bear in mind that **before using NumPy we need to import the package first** using `import numpy`:"
   ]
  },
  {
   "cell_type": "code",
   "execution_count": 31,
   "metadata": {},
   "outputs": [
    {
     "name": "stdout",
     "output_type": "stream",
     "text": [
      "Now, the addition is:\n",
      "[[11 22]\n",
      " [13 24]\n",
      " [15 26]]\n"
     ]
    }
   ],
   "source": [
    "import numpy\n",
    "\n",
    "matrix1 = numpy.array([\n",
    "    [1,2],\n",
    "    [3,4],\n",
    "    [5,6]])\n",
    "\n",
    "matrix2 = numpy.array([\n",
    "    [10,20],\n",
    "    [10,20],\n",
    "    [10,20]])\n",
    "\n",
    "addition = matrix1 + matrix2\n",
    "print('Now, the addition is:')\n",
    "print(addition)"
   ]
  },
  {
   "cell_type": "markdown",
   "metadata": {},
   "source": [
    "See how, in addition to doing a matrix addition (as opposed to just concatenating the lists) the matrix is nicely printed.\n",
    "\n",
    "There are a few array attributes worth looking at:\n",
    "- `ndim` is the number of dimensions of the array.\n",
    "- `shape` is a tuple containing the length of the array in each dimension.\n",
    "- `size` is the number of items in the array.\n",
    "- `dtype` is the type of the items the array holds. A lot of NumPy functions accept `dtype` as a parameter as well.\n",
    "\n",
    "See the corresponding values for our previous example:"
   ]
  },
  {
   "cell_type": "code",
   "execution_count": 33,
   "metadata": {},
   "outputs": [
    {
     "name": "stdout",
     "output_type": "stream",
     "text": [
      "addition.ndim is:   2\n",
      "addition.shape is:  (3, 2)\n",
      "addition.size is:   6\n",
      "addition.dtypoe is: int64\n"
     ]
    }
   ],
   "source": [
    "print(f'addition.ndim is:   {addition.ndim}')\n",
    "print(f'addition.shape is:  {addition.shape}')\n",
    "print(f'addition.size is:   {addition.size}')\n",
    "print(f'addition.dtypoe is: {addition.dtype}')"
   ]
  },
  {
   "cell_type": "markdown",
   "metadata": {},
   "source": [
    "There are other ways of creating matrices that will be useful in the module, such as `zeros`, `ones`, `empty` or `random.random`. Each of them receive a tuple with the dimensions:\n",
    " - `zeros` generates matrices filled with zeros.\n",
    " - `ones` generates matrices filled with ones.\n",
    " - `empty` generates matrices, uninitialised.\n",
    " - `random.random` generates matrices with random numbers (uniformly distributed within the range $(0,1)$)."
   ]
  },
  {
   "cell_type": "code",
   "execution_count": null,
   "metadata": {},
   "outputs": [],
   "source": [
    "print('zeros')\n",
    "z = numpy.zeros((2,2))\n",
    "print(z)\n",
    "\n",
    "print('ones')\n",
    "o = numpy.ones((2,2))\n",
    "print(o)\n",
    "\n",
    "print('empty')\n",
    "e = numpy.empty((3,3))\n",
    "print(e)\n",
    "\n",
    "print('random')\n",
    "r = numpy.random.random((3,3))\n",
    "print(r)"
   ]
  },
  {
   "cell_type": "markdown",
   "metadata": {},
   "source": [
    "To access single elements of a matrix we specify the indices for each dimension in square brackets, separated by commas. For instance, to access the element in the second row, first column of the matrix we generated earlier using `numpy.random.random()` we can use the following code:"
   ]
  },
  {
   "cell_type": "code",
   "execution_count": null,
   "metadata": {},
   "outputs": [],
   "source": [
    "print(r[1,0])"
   ]
  },
  {
   "cell_type": "markdown",
   "metadata": {},
   "source": [
    "# THE LAB ENDS HERE "
   ]
  }
 ],
 "metadata": {
  "kernelspec": {
   "display_name": "venv",
   "language": "python",
   "name": "python3"
  },
  "language_info": {
   "codemirror_mode": {
    "name": "ipython",
    "version": 3
   },
   "file_extension": ".py",
   "mimetype": "text/x-python",
   "name": "python",
   "nbconvert_exporter": "python",
   "pygments_lexer": "ipython3",
   "version": "3.12.10"
  }
 },
 "nbformat": 4,
 "nbformat_minor": 4
}
